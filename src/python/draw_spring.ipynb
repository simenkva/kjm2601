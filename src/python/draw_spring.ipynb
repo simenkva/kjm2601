{
 "cells": [
  {
   "cell_type": "code",
   "execution_count": 1,
   "metadata": {},
   "outputs": [],
   "source": [
    "import numpy as np\n",
    "import matplotlib.pyplot as plt\n",
    "import matplotlib.patches as patches\n",
    "\n",
    "from kjm2601 import obsidian_media_path as path\n"
   ]
  },
  {
   "cell_type": "code",
   "execution_count": 2,
   "metadata": {},
   "outputs": [],
   "source": [
    "def spring(x0, y0, x1, y1, n, rx = 0.1, ry = 0.05):\n",
    "    t = np.linspace(0, 1, 1000)\n",
    "    x = x0 + (x1 - x0) * t\n",
    "    y = y0 + (y1 - y0) * t\n",
    "    \n",
    "    r_t = np.ones_like(t)\n",
    "    r_t[t<0.1] = 0\n",
    "    r_t[t>0.9] = 0 \n",
    "    dx = np.cos(2 * np.pi * n * t) * r_t * rx\n",
    "    dy = np.sin(2 * np.pi * n * t) * r_t * ry\n",
    "    return x + dx, y + dy"
   ]
  },
  {
   "cell_type": "code",
   "execution_count": 3,
   "metadata": {},
   "outputs": [
    {
     "data": {
      "image/png": "[encoded data removed]",
      "text/plain": [
       "<Figure size 800x400 with 1 Axes>"
      ]
     },
     "metadata": {},
     "output_type": "display_data"
    }
   ],
   "source": [
    "plt.figure(figsize=(8, 4))\n",
    "\n",
    "# draw ceiling\n",
    "plt.plot([0, 10], [10, 10], 'k-')\n",
    "plt.fill_between([0, 10], 10, 11, color='gray', alpha=0.5)\n",
    "\n",
    "#draw spring attached to ceiling\n",
    "x0, y0 = 5, 10\n",
    "x1, y1 = 5, 8\n",
    "x,y = spring(x0, y0, x1, y1, 15)\n",
    "plt.plot(x,y, zorder=-10)\n",
    "p = patches.Rectangle((x1-0.2, y1-0.2), 0.4, 0.4, color='black')\n",
    "plt.gca().add_patch(p)\n",
    "\n",
    "# add arrow\n",
    "arrow = patches.FancyArrowPatch((x1-0.5, y1), (x1-0.5, y1-2), arrowstyle='<->', mutation_scale=20)\n",
    "plt.gca().add_patch(arrow)\n",
    "plt.text(x1-0.75, y1-1, '$y$', fontsize=12, verticalalignment='center', horizontalalignment='center')\n",
    "plt.text(x1+0.75, y1, '$m$', fontsize=12, verticalalignment='center', horizontalalignment='center')\n",
    "plt.axis('equal')\n",
    "plt.axis('off')\n",
    "plt.savefig(path + 'spring.svg', bbox_inches='tight')\n",
    "plt.show()"
   ]
  },
  {
   "cell_type": "code",
   "execution_count": null,
   "metadata": {},
   "outputs": [],
   "source": []
  }
 ],
 "metadata": {
  "kernelspec": {
   "display_name": "base",
   "language": "python",
   "name": "python3"
  },
  "language_info": {
   "codemirror_mode": {
    "name": "ipython",
    "version": 3
   },
   "file_extension": ".py",
   "mimetype": "text/x-python",
   "name": "python",
   "nbconvert_exporter": "python",
   "pygments_lexer": "ipython3",
   "version": "3.10.14"
  }
 },
 "nbformat": 4,
 "nbformat_minor": 2
}
