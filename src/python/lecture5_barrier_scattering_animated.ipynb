{
 "cells": [
  {
   "cell_type": "code",
   "execution_count": 12,
   "id": "4e340edf",
   "metadata": {
    "execution": {
     "iopub.execute_input": "2023-12-19T13:30:41.832862Z",
     "iopub.status.busy": "2023-12-19T13:30:41.832534Z",
     "iopub.status.idle": "2023-12-19T13:30:42.343521Z",
     "shell.execute_reply": "2023-12-19T13:30:42.343112Z"
    },
    "papermill": {
     "duration": 0.519338,
     "end_time": "2023-12-19T13:30:42.344785",
     "exception": false,
     "start_time": "2023-12-19T13:30:41.825447",
     "status": "completed"
    },
    "tags": []
   },
   "outputs": [],
   "source": [
    "import numpy as np\n",
    "from fft_tdse.simulator import *\n",
    "from fft_tdse.animator import *\n",
    "import matplotlib.colors as colors\n",
    "import matplotlib.pyplot as plt\n",
    "from kjm2601 import obsidian_media_path as path"
   ]
  },
  {
   "cell_type": "code",
   "execution_count": 16,
   "id": "6b9c9ae3",
   "metadata": {
    "execution": {
     "iopub.execute_input": "2023-12-19T13:30:42.348769Z",
     "iopub.status.busy": "2023-12-19T13:30:42.348541Z",
     "iopub.status.idle": "2023-12-19T13:30:42.350713Z",
     "shell.execute_reply": "2023-12-19T13:30:42.350495Z"
    },
    "papermill": {
     "duration": 0.005031,
     "end_time": "2023-12-19T13:30:42.351569",
     "exception": false,
     "start_time": "2023-12-19T13:30:42.346538",
     "status": "completed"
    },
    "tags": []
   },
   "outputs": [],
   "source": [
    "x_min = -400.0\n",
    "x_max = 400.0\n",
    "nx = 4096\n",
    "\n",
    "def potential(x, V0 = 5.0):\n",
    "    V = np.zeros_like(x)\n",
    "    V[(x >= 0)] = V0\n",
    "    return V\n",
    "\n",
    "E0 = 2.0\n",
    "k0 = (2*E0)**0.5\n",
    "x0 = -10.0\n",
    "sigma = 1.0\n",
    "def gaussian(x):\n",
    "    return np.exp(-0.5*((x-x0)/sigma)**2)*np.exp(1j*k0*x)\n"
   ]
  },
  {
   "cell_type": "code",
   "execution_count": 17,
   "id": "fdbd7b3b",
   "metadata": {
    "execution": {
     "iopub.execute_input": "2023-12-19T13:30:42.355078Z",
     "iopub.status.busy": "2023-12-19T13:30:42.354982Z",
     "iopub.status.idle": "2023-12-19T13:30:42.996949Z",
     "shell.execute_reply": "2023-12-19T13:30:42.995255Z"
    },
    "papermill": {
     "duration": 0.647007,
     "end_time": "2023-12-19T13:30:43.000147",
     "exception": false,
     "start_time": "2023-12-19T13:30:42.353140",
     "status": "completed"
    },
    "scrolled": false,
    "tags": []
   },
   "outputs": [
    {
     "name": "stderr",
     "output_type": "stream",
     "text": [
      "ic| simulator.py:283 in set_propagator() at 12:32:18.439\n",
      "ic| message: 'Propagation method set to \"strang-3\"'\n",
      "ic| message: 'Dimension set to 1'\n",
      "ic| message: 'Potential function set set.'\n",
      "ic| message: 'Grid set.'\n",
      "ic| self.a: array([-400.])\n",
      "    self.b: array([400.])\n",
      "    self.n: array([4096])\n",
      "ic| 'Time parameters set.'\n",
      "ic| self.t0: 0.0, self.t1: 50.0, self.n_steps: 5000\n",
      "ic| message: 'Initial condition set as an array.'\n",
      "ic| 'Using given initial condition. '\n",
      "/var/folders/qc/b2y8zg713_x554g8ykkcbcbh0000gp/T/ipykernel_26670/268214609.py:18: UserWarning: FigureCanvasAgg is non-interactive, and thus cannot be shown\n",
      "  plt.show()\n",
      "/var/folders/qc/b2y8zg713_x554g8ykkcbcbh0000gp/T/ipykernel_26670/268214609.py:24: UserWarning: FigureCanvasAgg is non-interactive, and thus cannot be shown\n",
      "  plt.show()\n"
     ]
    }
   ],
   "source": [
    "sim = Simulator(verbose=True)\n",
    "sim.set_dimension(1)\n",
    "sim.set_potential(potential)\n",
    "sim.set_grid(x_min, x_max, nx)\n",
    "#sim.set_ground_state_grid(-50,50,512)\n",
    "sim.set_time_parameters(0.0, 50.0, 5000)\n",
    "#sim.ground_state_guess =  np.exp(-sim.x**2/2)\n",
    "sim.set_initial_condition(gaussian(sim.x))\n",
    "#sim.wf.setPsi(sim.wf.psi * np.exp(1j*sim.x))\n",
    "\n",
    "sim.prepare()\n",
    "\n",
    "\n",
    "plt.figure()\n",
    "plt.plot(sim.x,potential(sim.x))\n",
    "plt.xlabel('x')\n",
    "plt.title('Potential energy V(x)')\n",
    "plt.show()\n",
    "\n",
    "plt.figure()\n",
    "plt.plot(sim.x,sim.psi.real)\n",
    "plt.xlabel('x')\n",
    "plt.title('Wavefunction at t=0')\n",
    "plt.show()\n"
   ]
  },
  {
   "cell_type": "code",
   "execution_count": 18,
   "id": "9678599a",
   "metadata": {
    "execution": {
     "iopub.execute_input": "2023-12-19T13:30:43.013935Z",
     "iopub.status.busy": "2023-12-19T13:30:43.013782Z",
     "iopub.status.idle": "2023-12-19T13:31:09.281451Z",
     "shell.execute_reply": "2023-12-19T13:31:09.279570Z"
    },
    "papermill": {
     "duration": 26.274434,
     "end_time": "2023-12-19T13:31:09.283553",
     "exception": false,
     "start_time": "2023-12-19T13:30:43.009119",
     "status": "completed"
    },
    "tags": []
   },
   "outputs": [
    {
     "name": "stderr",
     "output_type": "stream",
     "text": [
      "ic| 'Using given initial condition. '\n",
      "ic| self.name: 'potential_step'\n",
      "ic| self.folder: './potential_step_frames/'\n",
      "ic| self.fig_width_pixels: 800\n",
      "    self.fig_height_pixels: 600\n",
      "    self.fig_width: 10\n",
      "    self.fig_height: 7.5\n",
      "    self.dpi: 80.0\n",
      "ic| self.format: './potential_step_frames/frame%06d.png'\n",
      "ic| self.fig_width_pixels: 1920\n",
      "    self.fig_height_pixels: 1080\n",
      "    self.fig_width: 10\n",
      "    self.fig_height: 5.625\n",
      "    self.dpi: 192.0\n",
      "ic| 'inside mpl_style'\n",
      "ic| self.caption_font: <matplotlib.font_manager.FontProperties object at 0x302637af0>\n",
      "ic| 'show axis 1d'\n",
      "ic| 'Running simulation...'\n"
     ]
    },
    {
     "data": {
      "application/vnd.jupyter.widget-view+json": {
       "model_id": "6c418650d9a54e4682f507cfdeb4cda3",
       "version_major": 2,
       "version_minor": 0
      },
      "text/plain": [
       "  0%|          | 0/5000 [00:00<?, ?it/s]"
      ]
     },
     "metadata": {},
     "output_type": "display_data"
    }
   ],
   "source": [
    "sim.prepare()\n",
    "anim = Animator1d(sim, name='potential_step')\n",
    "\n",
    "anim.set_style(LightTheme())\n",
    "\n",
    "\n",
    "anim.set_interval(5)\n",
    "anim.set_framesize(int(1080*16/9), 1080)\n",
    "anim.xlim = [-50,50]\n",
    "\n",
    "anim.init_figure()\n",
    "anim.add_legend(loc='lower right')\n",
    "\n",
    "\n",
    "anim_callback = anim.get_callback()\n",
    "\n",
    "def callback(sim):\n",
    "    anim_callback(sim)\n",
    "    \n",
    "sim.simulate(callback=callback)\n"
   ]
  },
  {
   "cell_type": "code",
   "execution_count": 19,
   "id": "97af6930",
   "metadata": {},
   "outputs": [
    {
     "name": "stderr",
     "output_type": "stream",
     "text": [
      "ic| len(self.frame_list): 1001\n",
      "ic| 'making movie ...'\n",
      "ic| filename: '../obsidian/kjm2601-materiale/media/lecture5_potential_step.mp4'\n",
      "ffmpeg version N-111795-g95433eb3aa-tessus  https://evermeet.cx/ffmpeg/  Copyright (c) 2000-2023 the FFmpeg developers\n",
      "  built with Apple clang version 11.0.0 (clang-1100.0.33.17)\n",
      "  configuration: --cc=/usr/bin/clang --prefix=/opt/ffmpeg --extra-version=tessus --enable-avisynth --enable-fontconfig --enable-gpl --enable-libaom --enable-libass --enable-libbluray --enable-libdav1d --enable-libfreetype --enable-libgsm --enable-libmodplug --enable-libmp3lame --enable-libmysofa --enable-libopencore-amrnb --enable-libopencore-amrwb --enable-libopenh264 --enable-libopenjpeg --enable-libopus --enable-librubberband --enable-libshine --enable-libsnappy --enable-libsoxr --enable-libspeex --enable-libtheora --enable-libtwolame --enable-libvidstab --enable-libvmaf --enable-libvo-amrwbenc --enable-libvorbis --enable-libvpx --enable-libwebp --enable-libx264 --enable-libx265 --enable-libxavs --enable-libxml2 --enable-libxvid --enable-libzimg --enable-libzmq --enable-libzvbi --enable-version3 --pkg-config-flags=--static --disable-ffplay\n",
      "  libavutil      58. 17.100 / 58. 17.100\n",
      "  libavcodec     60. 23.100 / 60. 23.100\n",
      "  libavformat    60. 10.100 / 60. 10.100\n",
      "  libavdevice    60.  2.101 / 60.  2.101\n",
      "  libavfilter     9. 11.100 /  9. 11.100\n",
      "  libswscale      7.  3.100 /  7.  3.100\n",
      "  libswresample   4. 11.100 /  4. 11.100\n",
      "  libpostproc    57.  2.100 / 57.  2.100\n",
      "Input #0, image2, from './potential_step_frames/frame%06d.png':\n",
      "  Duration: 00:00:40.04, start: 0.000000, bitrate: N/A\n",
      "  Stream #0:0: Video: png, rgba(pc, gbr/unknown/unknown), 1920x1080 [SAR 7559:7559 DAR 16:9], 25 fps, 25 tbr, 25 tbn\n",
      "Stream mapping:\n",
      "  Stream #0:0 -> #0:0 (png (native) -> h264 (libx264))\n",
      "Press [q] to stop, [?] for help\n",
      "[libx264 @ 0x7ff091709080] using SAR=1/1\n",
      "[libx264 @ 0x7ff091709080] using cpu capabilities: MMX2 SSE2Fast SSSE3 SSE4.2\n",
      "[libx264 @ 0x7ff091709080] profile High, level 4.0, 4:2:0, 8-bit\n",
      "[libx264 @ 0x7ff091709080] 264 - core 164 r3107 a8b68eb - H.264/MPEG-4 AVC codec - Copyleft 2003-2023 - http://www.videolan.org/x264.html - options: cabac=1 ref=3 deblock=1:0:0 analyse=0x3:0x113 me=hex subme=7 psy=1 psy_rd=1.00:0.00 mixed_ref=1 me_range=16 chroma_me=1 trellis=1 8x8dct=1 cqm=0 deadzone=21,11 fast_pskip=1 chroma_qp_offset=-2 threads=18 lookahead_threads=3 sliced_threads=0 nr=0 decimate=1 interlaced=0 bluray_compat=0 constrained_intra=0 bframes=3 b_pyramid=2 b_adapt=1 b_bias=0 direct=1 weightb=1 open_gop=0 weightp=2 keyint=250 keyint_min=24 scenecut=40 intra_refresh=0 rc_lookahead=40 rc=crf mbtree=1 crf=23.0 qcomp=0.60 qpmin=0 qpmax=69 qpstep=4 ip_ratio=1.40 aq=1:1.00\n",
      "Output #0, mp4, to '../obsidian/kjm2601-materiale/media/lecture5_potential_step.mp4':\n",
      "  Metadata:\n",
      "    encoder         : Lavf60.10.100\n",
      "  Stream #0:0: Video: h264 (avc1 / 0x31637661), yuv420p(tv, progressive), 1920x1080 [SAR 1:1 DAR 16:9], q=2-31, 24 fps, 12288 tbn\n",
      "    Metadata:\n",
      "      encoder         : Lavc60.23.100 libx264\n",
      "    Side data:\n",
      "      cpb: bitrate max/min/avg: 0/0/0 buffer size: 0 vbv_delay: N/A\n",
      "[out#0/mp4 @ 0x7ff091707a00] video:3268kB audio:0kB subtitle:0kB other streams:0kB global headers:0kB muxing overhead: 0.380433%\n",
      "frame= 1001 fps=106 q=-1.0 Lsize=    3280kB time=00:00:41.58 bitrate= 646.2kbits/s speed=4.41x    \n",
      "[libx264 @ 0x7ff091709080] frame I:5     Avg QP:16.43  size: 35671\n",
      "[libx264 @ 0x7ff091709080] frame P:265   Avg QP:22.66  size:  7031\n",
      "[libx264 @ 0x7ff091709080] frame B:731   Avg QP:30.19  size:  1784\n",
      "[libx264 @ 0x7ff091709080] consecutive B-frames:  0.6%  3.4%  8.1% 87.9%\n",
      "[libx264 @ 0x7ff091709080] mb I  I16..4: 43.9% 48.5%  7.6%\n",
      "[libx264 @ 0x7ff091709080] mb P  I16..4:  0.3%  0.4%  0.2%  P16..4:  3.8%  2.4%  1.8%  0.0%  0.0%    skip:91.2%\n",
      "[libx264 @ 0x7ff091709080] mb B  I16..4:  0.0%  0.1%  0.0%  B16..8:  3.9%  1.2%  0.3%  direct: 0.3%  skip:94.1%  L0:43.9% L1:41.1% BI:15.0%\n",
      "[libx264 @ 0x7ff091709080] 8x8 transform intra:50.3% inter:31.8%\n",
      "[libx264 @ 0x7ff091709080] coded y,uvDC,uvAC intra: 9.5% 10.0% 8.9% inter: 0.7% 1.3% 1.0%\n",
      "[libx264 @ 0x7ff091709080] i16 v,h,dc,p: 62% 34%  4%  0%\n",
      "[libx264 @ 0x7ff091709080] i8 v,h,dc,ddl,ddr,vr,hd,vl,hu: 34%  4% 61%  0%  0%  0%  0%  0%  0%\n",
      "[libx264 @ 0x7ff091709080] i4 v,h,dc,ddl,ddr,vr,hd,vl,hu: 33% 28% 20%  3%  3%  3%  3%  3%  3%\n",
      "[libx264 @ 0x7ff091709080] i8c dc,h,v,p: 78% 14%  7%  0%\n",
      "[libx264 @ 0x7ff091709080] Weighted P-Frames: Y:0.0% UV:0.0%\n",
      "[libx264 @ 0x7ff091709080] ref P L0: 67.1%  5.0% 14.0% 14.0%\n",
      "[libx264 @ 0x7ff091709080] ref B L0: 74.5% 19.5%  5.9%\n",
      "[libx264 @ 0x7ff091709080] ref B L1: 90.1%  9.9%\n",
      "[libx264 @ 0x7ff091709080] kb/s:641.69\n",
      "ic| exit_code: 0\n"
     ]
    }
   ],
   "source": [
    "\n",
    "anim.make_movie(path + \"lecture5_potential_step.mp4\")\n",
    "anim.clean_frames()\n"
   ]
  },
  {
   "cell_type": "code",
   "execution_count": 20,
   "id": "5cc4375e",
   "metadata": {
    "execution": {
     "iopub.execute_input": "2023-12-19T13:31:09.303410Z",
     "iopub.status.busy": "2023-12-19T13:31:09.303093Z",
     "iopub.status.idle": "2023-12-19T13:31:09.326710Z",
     "shell.execute_reply": "2023-12-19T13:31:09.315262Z"
    },
    "papermill": {
     "duration": 0.0337,
     "end_time": "2023-12-19T13:31:09.329497",
     "exception": false,
     "start_time": "2023-12-19T13:31:09.295797",
     "status": "completed"
    },
    "tags": []
   },
   "outputs": [
    {
     "data": {
      "text/html": [
       "<video src=\"../obsidian/kjm2601-materiale/media/lecture5_potential_step.mp4\" controls  width=\"800\" >\n",
       "      Your browser does not support the <code>video</code> element.\n",
       "    </video>"
      ],
      "text/plain": [
       "<IPython.core.display.Video object>"
      ]
     },
     "metadata": {},
     "output_type": "display_data"
    }
   ],
   "source": [
    "from IPython.display import Video\n",
    "display(Video(path + \"lecture5_potential_step.mp4\", width=800))\n"
   ]
  },
  {
   "cell_type": "code",
   "execution_count": null,
   "id": "28a6016f",
   "metadata": {
    "papermill": {
     "duration": 0.005684,
     "end_time": "2023-12-19T13:31:09.347480",
     "exception": false,
     "start_time": "2023-12-19T13:31:09.341796",
     "status": "completed"
    },
    "tags": []
   },
   "outputs": [],
   "source": []
  }
 ],
 "metadata": {
  "kernelspec": {
   "display_name": "Python 3 (ipykernel)",
   "language": "python",
   "name": "python3"
  },
  "language_info": {
   "codemirror_mode": {
    "name": "ipython",
    "version": 3
   },
   "file_extension": ".py",
   "mimetype": "text/x-python",
   "name": "python",
   "nbconvert_exporter": "python",
   "pygments_lexer": "ipython3",
   "version": "3.10.14"
  },
  "papermill": {
   "default_parameters": {},
   "duration": 31.279902,
   "end_time": "2023-12-19T13:31:11.977652",
   "environment_variables": {},
   "exception": null,
   "input_path": "Hydrogen model in 1d.ipynb",
   "output_path": "Hydrogen model in 1d.ipynb",
   "parameters": {},
   "start_time": "2023-12-19T13:30:40.697750",
   "version": "2.5.0"
  },
  "widgets": {
   "application/vnd.jupyter.widget-state+json": {
    "state": {
     "114405a5ef97451ead973ebf3a79567c": {
      "model_module": "@jupyter-widgets/controls",
      "model_module_version": "1.5.0",
      "model_name": "HTMLModel",
      "state": {
       "_dom_classes": [],
       "_model_module": "@jupyter-widgets/controls",
       "_model_module_version": "1.5.0",
       "_model_name": "HTMLModel",
       "_view_count": null,
       "_view_module": "@jupyter-widgets/controls",
       "_view_module_version": "1.5.0",
       "_view_name": "HTMLView",
       "description": "",
       "description_tooltip": null,
       "layout": "IPY_MODEL_d94f7c0ef3704231a0d7d03a3bd32eac",
       "placeholder": "​",
       "style": "IPY_MODEL_3482cae848494dbf82c56a6bebd48dbf",
       "value": " 15000/15000 [00:24&lt;00:00, 634.48it/s]"
      }
     },
     "1f1a76e1a0344d1caeb7400e417478c1": {
      "model_module": "@jupyter-widgets/controls",
      "model_module_version": "1.5.0",
      "model_name": "FloatProgressModel",
      "state": {
       "_dom_classes": [],
       "_model_module": "@jupyter-widgets/controls",
       "_model_module_version": "1.5.0",
       "_model_name": "FloatProgressModel",
       "_view_count": null,
       "_view_module": "@jupyter-widgets/controls",
       "_view_module_version": "1.5.0",
       "_view_name": "ProgressView",
       "bar_style": "success",
       "description": "",
       "description_tooltip": null,
       "layout": "IPY_MODEL_909d97c9e75d497bb6056366731037f2",
       "max": 15000,
       "min": 0,
       "orientation": "horizontal",
       "style": "IPY_MODEL_397c4ae4a668401eac03b2af0359b79d",
       "value": 15000
      }
     },
     "3482cae848494dbf82c56a6bebd48dbf": {
      "model_module": "@jupyter-widgets/controls",
      "model_module_version": "1.5.0",
      "model_name": "DescriptionStyleModel",
      "state": {
       "_model_module": "@jupyter-widgets/controls",
       "_model_module_version": "1.5.0",
       "_model_name": "DescriptionStyleModel",
       "_view_count": null,
       "_view_module": "@jupyter-widgets/base",
       "_view_module_version": "1.2.0",
       "_view_name": "StyleView",
       "description_width": ""
      }
     },
     "397c4ae4a668401eac03b2af0359b79d": {
      "model_module": "@jupyter-widgets/controls",
      "model_module_version": "1.5.0",
      "model_name": "ProgressStyleModel",
      "state": {
       "_model_module": "@jupyter-widgets/controls",
       "_model_module_version": "1.5.0",
       "_model_name": "ProgressStyleModel",
       "_view_count": null,
       "_view_module": "@jupyter-widgets/base",
       "_view_module_version": "1.2.0",
       "_view_name": "StyleView",
       "bar_color": null,
       "description_width": ""
      }
     },
     "8b63c7d63ed8486aa0ccf552d7f91c60": {
      "model_module": "@jupyter-widgets/base",
      "model_module_version": "1.2.0",
      "model_name": "LayoutModel",
      "state": {
       "_model_module": "@jupyter-widgets/base",
       "_model_module_version": "1.2.0",
       "_model_name": "LayoutModel",
       "_view_count": null,
       "_view_module": "@jupyter-widgets/base",
       "_view_module_version": "1.2.0",
       "_view_name": "LayoutView",
       "align_content": null,
       "align_items": null,
       "align_self": null,
       "border": null,
       "bottom": null,
       "display": null,
       "flex": null,
       "flex_flow": null,
       "grid_area": null,
       "grid_auto_columns": null,
       "grid_auto_flow": null,
       "grid_auto_rows": null,
       "grid_column": null,
       "grid_gap": null,
       "grid_row": null,
       "grid_template_areas": null,
       "grid_template_columns": null,
       "grid_template_rows": null,
       "height": null,
       "justify_content": null,
       "justify_items": null,
       "left": null,
       "margin": null,
       "max_height": null,
       "max_width": null,
       "min_height": null,
       "min_width": null,
       "object_fit": null,
       "object_position": null,
       "order": null,
       "overflow": null,
       "overflow_x": null,
       "overflow_y": null,
       "padding": null,
       "right": null,
       "top": null,
       "visibility": null,
       "width": null
      }
     },
     "8e01712d4c6946ce80575b680722d42a": {
      "model_module": "@jupyter-widgets/base",
      "model_module_version": "1.2.0",
      "model_name": "LayoutModel",
      "state": {
       "_model_module": "@jupyter-widgets/base",
       "_model_module_version": "1.2.0",
       "_model_name": "LayoutModel",
       "_view_count": null,
       "_view_module": "@jupyter-widgets/base",
       "_view_module_version": "1.2.0",
       "_view_name": "LayoutView",
       "align_content": null,
       "align_items": null,
       "align_self": null,
       "border": null,
       "bottom": null,
       "display": null,
       "flex": null,
       "flex_flow": null,
       "grid_area": null,
       "grid_auto_columns": null,
       "grid_auto_flow": null,
       "grid_auto_rows": null,
       "grid_column": null,
       "grid_gap": null,
       "grid_row": null,
       "grid_template_areas": null,
       "grid_template_columns": null,
       "grid_template_rows": null,
       "height": null,
       "justify_content": null,
       "justify_items": null,
       "left": null,
       "margin": null,
       "max_height": null,
       "max_width": null,
       "min_height": null,
       "min_width": null,
       "object_fit": null,
       "object_position": null,
       "order": null,
       "overflow": null,
       "overflow_x": null,
       "overflow_y": null,
       "padding": null,
       "right": null,
       "top": null,
       "visibility": null,
       "width": null
      }
     },
     "909d97c9e75d497bb6056366731037f2": {
      "model_module": "@jupyter-widgets/base",
      "model_module_version": "1.2.0",
      "model_name": "LayoutModel",
      "state": {
       "_model_module": "@jupyter-widgets/base",
       "_model_module_version": "1.2.0",
       "_model_name": "LayoutModel",
       "_view_count": null,
       "_view_module": "@jupyter-widgets/base",
       "_view_module_version": "1.2.0",
       "_view_name": "LayoutView",
       "align_content": null,
       "align_items": null,
       "align_self": null,
       "border": null,
       "bottom": null,
       "display": null,
       "flex": null,
       "flex_flow": null,
       "grid_area": null,
       "grid_auto_columns": null,
       "grid_auto_flow": null,
       "grid_auto_rows": null,
       "grid_column": null,
       "grid_gap": null,
       "grid_row": null,
       "grid_template_areas": null,
       "grid_template_columns": null,
       "grid_template_rows": null,
       "height": null,
       "justify_content": null,
       "justify_items": null,
       "left": null,
       "margin": null,
       "max_height": null,
       "max_width": null,
       "min_height": null,
       "min_width": null,
       "object_fit": null,
       "object_position": null,
       "order": null,
       "overflow": null,
       "overflow_x": null,
       "overflow_y": null,
       "padding": null,
       "right": null,
       "top": null,
       "visibility": null,
       "width": null
      }
     },
     "d8f6c341293643a29265ee2ef4ae23d0": {
      "model_module": "@jupyter-widgets/controls",
      "model_module_version": "1.5.0",
      "model_name": "DescriptionStyleModel",
      "state": {
       "_model_module": "@jupyter-widgets/controls",
       "_model_module_version": "1.5.0",
       "_model_name": "DescriptionStyleModel",
       "_view_count": null,
       "_view_module": "@jupyter-widgets/base",
       "_view_module_version": "1.2.0",
       "_view_name": "StyleView",
       "description_width": ""
      }
     },
     "d94f7c0ef3704231a0d7d03a3bd32eac": {
      "model_module": "@jupyter-widgets/base",
      "model_module_version": "1.2.0",
      "model_name": "LayoutModel",
      "state": {
       "_model_module": "@jupyter-widgets/base",
       "_model_module_version": "1.2.0",
       "_model_name": "LayoutModel",
       "_view_count": null,
       "_view_module": "@jupyter-widgets/base",
       "_view_module_version": "1.2.0",
       "_view_name": "LayoutView",
       "align_content": null,
       "align_items": null,
       "align_self": null,
       "border": null,
       "bottom": null,
       "display": null,
       "flex": null,
       "flex_flow": null,
       "grid_area": null,
       "grid_auto_columns": null,
       "grid_auto_flow": null,
       "grid_auto_rows": null,
       "grid_column": null,
       "grid_gap": null,
       "grid_row": null,
       "grid_template_areas": null,
       "grid_template_columns": null,
       "grid_template_rows": null,
       "height": null,
       "justify_content": null,
       "justify_items": null,
       "left": null,
       "margin": null,
       "max_height": null,
       "max_width": null,
       "min_height": null,
       "min_width": null,
       "object_fit": null,
       "object_position": null,
       "order": null,
       "overflow": null,
       "overflow_x": null,
       "overflow_y": null,
       "padding": null,
       "right": null,
       "top": null,
       "visibility": null,
       "width": null
      }
     },
     "db5a0081ebc6420ea3e5c33333b80062": {
      "model_module": "@jupyter-widgets/controls",
      "model_module_version": "1.5.0",
      "model_name": "HBoxModel",
      "state": {
       "_dom_classes": [],
       "_model_module": "@jupyter-widgets/controls",
       "_model_module_version": "1.5.0",
       "_model_name": "HBoxModel",
       "_view_count": null,
       "_view_module": "@jupyter-widgets/controls",
       "_view_module_version": "1.5.0",
       "_view_name": "HBoxView",
       "box_style": "",
       "children": [
        "IPY_MODEL_ed73f89ebc4d4a68a6fb1b856c994364",
        "IPY_MODEL_1f1a76e1a0344d1caeb7400e417478c1",
        "IPY_MODEL_114405a5ef97451ead973ebf3a79567c"
       ],
       "layout": "IPY_MODEL_8e01712d4c6946ce80575b680722d42a"
      }
     },
     "ed73f89ebc4d4a68a6fb1b856c994364": {
      "model_module": "@jupyter-widgets/controls",
      "model_module_version": "1.5.0",
      "model_name": "HTMLModel",
      "state": {
       "_dom_classes": [],
       "_model_module": "@jupyter-widgets/controls",
       "_model_module_version": "1.5.0",
       "_model_name": "HTMLModel",
       "_view_count": null,
       "_view_module": "@jupyter-widgets/controls",
       "_view_module_version": "1.5.0",
       "_view_name": "HTMLView",
       "description": "",
       "description_tooltip": null,
       "layout": "IPY_MODEL_8b63c7d63ed8486aa0ccf552d7f91c60",
       "placeholder": "​",
       "style": "IPY_MODEL_d8f6c341293643a29265ee2ef4ae23d0",
       "value": "100%"
      }
     }
    },
    "version_major": 2,
    "version_minor": 0
   }
  }
 },
 "nbformat": 4,
 "nbformat_minor": 5
}
