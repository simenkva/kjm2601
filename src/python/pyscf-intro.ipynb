{
 "cells": [
  {
   "cell_type": "markdown",
   "metadata": {},
   "source": [
    "# Introduksjon til PySCF\n",
    "\n",
    "**PySCF (Python-based Simulations of Chemistry Framework)** er en åpen kildekode-pakke for kvantekjemi som er utviklet for å utføre en ulike elektronstrukturteoriberegninger (langt ord!). Det brukes mye til både forskning og undervisning på grunn av sin fleksibilitet, effektivitet og brukervennlighet. Navnet er et ordspill – \"SCF\" står vanligvis for Self-Consistent Field, altså Hartree-Fock og Tetthetsfunksjonalteori (DFT). Disse metodene er blant PySCFs sterkeste sider.\n",
    "\n",
    "Dokumentasjonen er god, og et godt sted å starte er den offisielle nettsiden: https://pyscf.org/index.html\n",
    "\n",
    "\n",
    "### Noen nøkkelfunksjoner i PySCF:\n",
    "1. **Kjernefunksjonaliteter**:\n",
    "   - PySCF støtter **Hartree-Fock (HF)**- og **Tetthetsfunksjonalteori (DFT)**-beregninger, samt avanserte metoder etter Hartree-Fock som **Møller-Plesset pertubasjonsteori (MP2)**, **Coupled Cluster (CC)**, **Konfigurasjonsinteraksjon (CI)**, **Complete Active Space Self-Consistent Field (CASSCF)**-beregninger og flere.\n",
    "\n",
    "2. **Basis-sett og integraler**:\n",
    "   - Programvaren inkluderer en rekke **Gaussiske orbitaler (GTO)** basis-sett og effektive rutiner for å beregne integraler.\n",
    "\n",
    "3. **Modularitet og fleksibilitet**:\n",
    "   - PySCF er designet for å være modulær, noe som gjør det mulig for brukere å utvide funksjonaliteten eller integrere den med andre verktøy. Dette gjør den egnet for skreddersydde arbeidsflyter i forskning.\n",
    "\n",
    "4. **Python-grensesnitt**:\n",
    "   - Skrevet i Python med ytelseskritiske deler i C, tilbyr PySCF et intuitivt og brukervennlig grensesnitt som utnytter Python-økosystemet for skripting og rask utvikling.\n",
    "  "
   ]
  },
  {
   "cell_type": "markdown",
   "metadata": {},
   "source": [
    "# En første beregning med Hartree-Fock\n",
    "\n",
    "I denne delen av notebooken skal vi se hvordan vi definerer et molekyl, velger et GTO-basissett, og kjører en Hartree-Fock-beregning på molekylet."
   ]
  },
  {
   "cell_type": "markdown",
   "metadata": {},
   "source": [
    "## Importering av relevante pakker"
   ]
  },
  {
   "cell_type": "code",
   "execution_count": 86,
   "metadata": {},
   "outputs": [],
   "source": [
    "from pyscf import * \n",
    "import matplotlib.pyplot as plt"
   ]
  },
  {
   "cell_type": "markdown",
   "metadata": {},
   "source": [
    "## Definere et molekyl\n",
    "\n",
    "Et molekyl defineres ved å plassere kjerner på posisjoner i rommet gitt ved XYZ-koordinater. PySCF regner ut hvor mange elektroner molekylet har under antagelsen at det er elektrisk nøytralt. Her definerer vi et vannmolekyl (med en litt rar geometri), og - for moro skyld - koffein-molekylet (bør være nær likevekt).\n",
    "\n",
    "Når geometrien er bestemt, må man så velge et AO basissett. Husk at AO står for \"atomic orbital\". Her velger vi et basissett som heter STO-3G. Dette er en såkalt \"minimal basis\", der hvert elektron starter med 1 orbital, sentrert på atomet elektronet \"hører til\". I dette eksempelet vil det derfor være 1 basisfunksjon for hvert H-atom, og 5 basisfunksjoner for O-atomet. Hver basisfunksjon er en Slater-type orbital som er tilnærmet med 3 gaussiske orbitaler.\n",
    "\n",
    "Så må vi be PySCF å \"bygge\" molekylet for å få en veldefinert datastruktur som PySCF kan gjøre beregninger med.\n",
    "\n",
    "For mer informasjon og flere måter å gjøre dette på, se https://pyscf.org/user/gto.html.\n",
    "\n"
   ]
  },
  {
   "cell_type": "code",
   "execution_count": 87,
   "metadata": {},
   "outputs": [
    {
     "data": {
      "text/plain": [
       "<pyscf.gto.mole.Mole at 0x1170c7370>"
      ]
     },
     "execution_count": 87,
     "metadata": {},
     "output_type": "execute_result"
    }
   ],
   "source": [
    "water = \"\"\"\n",
    "O          0.00000        0.00000        0.00000\n",
    "H          0.27740        0.89290        0.25440\n",
    "H          0.60680       -0.23830       -0.71690\n",
    "\n",
    "\"\"\"\n",
    "\n",
    "caffeine = \"\"\"\n",
    "O          0.47000        2.56880        0.00060\n",
    "O         -3.12710       -0.44360       -0.00030\n",
    "N         -0.96860       -1.31250        0.00000\n",
    "N          2.21820        0.14120       -0.00030\n",
    "N         -1.34770        1.07970       -0.00010\n",
    "N          1.41190       -1.93720        0.00020\n",
    "C          0.85790        0.25920       -0.00080\n",
    "C          0.38970       -1.02640       -0.00040\n",
    "C          0.03070        1.42200       -0.00060\n",
    "C         -1.90610       -0.24950       -0.00040\n",
    "C          2.50320       -1.19980        0.00030\n",
    "C         -1.42760       -2.69600        0.00080\n",
    "C          3.19260        1.20610        0.00030\n",
    "C         -2.29690        2.18810        0.00070\n",
    "H          3.51630       -1.57870        0.00080\n",
    "H         -1.04510       -3.19730       -0.89370\n",
    "H         -2.51860       -2.75960        0.00110\n",
    "H         -1.04470       -3.19630        0.89570\n",
    "H          4.19920        0.78010        0.00020\n",
    "H          3.04680        1.80920       -0.89920\n",
    "H          3.04660        1.80830        0.90040\n",
    "H         -1.80870        3.16510       -0.00030\n",
    "H         -2.93220        2.10270        0.88810\n",
    "H         -2.93460        2.10210       -0.88490\n",
    "\"\"\"\n",
    "\n",
    "\n",
    "mol = gto.Mole()\n",
    "mol.atom = water\n",
    "mol.basis = 'STO-3G'\n",
    "mol.unit = 'Angstrom' # Alternativt 'Bohr'\n",
    "mol.build()\n",
    "\n"
   ]
  },
  {
   "cell_type": "markdown",
   "metadata": {},
   "source": [
    "## Kjøre en Hartree-Fock-beregning\n",
    "\n",
    "Når vi har bestemt molekylet vårt, kan vi gjøre, for eksempel, en HF-beregning. Dette gjøres i to steg:\n",
    "1. Lage et `RHF`-objekt som lar oss gjøre en Restricted Hartree-Fock-beregning. Dette objektet initialiseres med `Mole`-objektet fra tidligere.\n",
    "2. Gjøre beregningene.\n",
    "\n"
   ]
  },
  {
   "cell_type": "code",
   "execution_count": 88,
   "metadata": {},
   "outputs": [
    {
     "name": "stdout",
     "output_type": "stream",
     "text": [
      "converged SCF energy = -74.9644475827696\n",
      "Energy:  -74.9644475827696\n"
     ]
    }
   ],
   "source": [
    "mf = scf.RHF(mol)  # Set up a Restricted Hartree-Fock solver\n",
    "energy = mf.kernel()   # Solve for the energy\n",
    "\n",
    "print(\"Energy: \", energy)"
   ]
  },
  {
   "cell_type": "markdown",
   "metadata": {},
   "source": [
    "## Valg av basissett\n",
    "\n",
    "Kvantekjemi inneholder et veritabelt overflødighetshorn av GTO-baserte basissett, tilpasset mange ulike formål. I eksempelet over ble basissettet `STO-3G` brukt. Her er en tabell med flere basissett å prøve ut:\n",
    "\n",
    "| **Basissett**    | **Type**        | **Beskrivelse**                                                                                                      | **Typiske bruksområder**                   |\n",
    "|------------------|-----------------|----------------------------------------------------------------------------------------------------------------------|--------------------------------------------|\n",
    "| **STO-3G**       | Minimalt Basis   | Bruker 3 Gauss-funksjoner for å tilnærme én Slater-type orbital. Rask, men med minimal nøyaktighet.                   | Små molekyler, enkle beregninger           |\n",
    "| **3-21G**        | Split-Valence    | Splitter valensorbitalene i to Gauss-funksjoner for større fleksibilitet.                                             | Små systemer, moderat nøyaktighet          |\n",
    "| **6-31G**        | Split-Valence    | Mer nøyaktig enn 3-21G; bruker 6 Gauss-funksjoner for kjernorbitaler og en delt valensorbitaltilnærming.              | Organiske molekyler, geometrioptimalisering|\n",
    "| **cc-pVDZ**      | Korrelasjons-Konsistent | Dobbelt-zeta basissett designet for korrelerte bølgefunksjonsmetoder som CCSD og MP2.                               | Korrelerte beregninger, små molekyler      |\n",
    "| **cc-pVTZ**      | Korrelasjons-Konsistent | Trippel-zeta versjon for bedre nøyaktighet, spesielt for korrelerte metoder.                                         | Nøyaktige korrelerte metoder               |\n",
    "| **cc-pVQZ**      | Korrelasjons-Konsistent | Kvadrupel-zeta versjon for svært høy nøyaktighet i korrelerte beregninger.                                           | Høynøyaktige beregninger, referanseverdier |\n",
    "| **def2-SVP**     | Split-Valence    | Dobbelt-zeta med polarisasjonsfunksjoner, optimalisert for DFT og korrelerte metoder.                                | Middels store molekyler, geometrioptimalisering |\n",
    "| **def2-TZVP**    | Trippel-Zeta     | Trippel-zeta basissett med polarisasjon. Høy nøyaktighet, egnet for større systemer.                                  | DFT og bølgefunksjonsbaserte metoder       |\n",
    "| **def2-QZVP**    | Kvadrupel-Zeta   | Kvadrupel-zeta basissett for ekstremt høy nøyaktighet, spesielt i post-HF metoder.                                    | Høynøyaktige beregninger                   |\n",
    "| **LANL2DZ**      | ECP              | Bruker effektive kjernpotensialer (ECP) for tunge atomer, med dobbelt-zeta basissett for valenselektroner.            | Tunge elementer, overgangsmetaller         |\n",
    "| **AUG-cc-pVDZ**  | Augmentert Basis | cc-pVDZ med diffuse funksjoner for å fange opp langdistanse-interaksjoner, bedre behandling av svakt bundne systemer. | Svake interaksjoner, anioner, eksiterte tilstander |\n",
    "| **AUG-cc-pVTZ**  | Augmentert Basis | cc-pVTZ med diffuse funksjoner for mer nøyaktig behandling av eksiterte tilstander og anioner.                        | Svakt bundne systemer, van der Waals interaksjoner |\n"
   ]
  },
  {
   "cell_type": "markdown",
   "metadata": {},
   "source": [
    "# Regne ut egenskaper til molekylet\n",
    "\n",
    "Etter at HF-beregningen er ferdig, kan vi be PySCF om å regne ut ulike egenskaper. Her viser vi hvordan man regner ut dipolmomentet og Mulliken-populasjoner.\n"
   ]
  },
  {
   "cell_type": "code",
   "execution_count": 89,
   "metadata": {},
   "outputs": [
    {
     "name": "stdout",
     "output_type": "stream",
     "text": [
      "Dipole moment(X, Y, Z, Debye):  1.26968,  0.93998, -0.66413\n",
      "Dipole moment:  [ 1.26967702  0.9399789  -0.66413293]\n",
      " ** Mulliken pop  **\n",
      "pop of  0 O 1s            1.99768\n",
      "pop of  0 O 2s            1.83424\n",
      "pop of  0 O 2px           1.65696\n",
      "pop of  0 O 2py           1.32455\n",
      "pop of  0 O 2pz           1.54111\n",
      "pop of  1 H 1s            0.82273\n",
      "pop of  2 H 1s            0.82273\n",
      " ** Mulliken atomic charges  **\n",
      "charge of    0O =     -0.35454\n",
      "charge of    1H =      0.17727\n",
      "charge of    2H =      0.17727\n",
      "Mulliken population:  (array([1.99767794, 1.83424153, 1.65695672, 1.32454809, 1.54111392,\n",
      "       0.82273109, 0.82273072]), array([-0.35453819,  0.17726891,  0.17726928]))\n"
     ]
    }
   ],
   "source": [
    "dip = mf.dip_moment()\n",
    "print(\"Dipole moment: \", dip)\n",
    "pop = mf.mulliken_pop()\n",
    "print(\"Mulliken population: \", pop)\n",
    "\n"
   ]
  },
  {
   "cell_type": "markdown",
   "metadata": {},
   "source": [
    "# Gjøre en DFT-beregning\n",
    "\n",
    "Nå viser vi hvordan man kan gjøre en Kohn-Sham DFT-beregning i PySCF. Dette er ganske likt som Hartree-Fock-beregningen. Vi regner på koffein-molekylet.\n",
    "\n",
    "Her er en tabell med XC-funksjonaler du kan prøve:\n",
    "\n",
    "| **Funksjonal**            | **Definisjonsstreng** | **Beskrivelse**                                                                                          |\n",
    "|---------------------------|-----------------------|----------------------------------------------------------------------------------------------------------|\n",
    "| **LDA (Local Density Approximation)**        | `'lda'`               | Lokal tetthets-tilnærming. XC-funksjonalen avhenger bare av elektron-tettheten i hvert punkt.               |\n",
    "| **PBE (Perdew-Burke-Ernzerhof)**  | `'pbe'`               | Generalisert gradient-tilnærming (GGA). Inkluderer gradienten av tettheten for mer nøyaktige beregninger.   |\n",
    "| **BLYP (Becke-Lee-Yang-Parr)**     | `'blyp'`              | Kombinasjon av Becke's utvekslingsfunksjonal og LYP's korrelasjonsfunksjonal. GGA-nivå funksjonal.           |\n",
    "| **BP86**                   | `'bp86'`              | Kombinasjon av Becke’s 1988 utvekslingsfunksjonal og Perdew's 1986 korrelasjonsfunksjonal.                  |\n",
    "| **B3LYP**                  | `'b3lyp'`             | Hybrid GGA funksjonal som kombinerer BLYP med en andel av Hartree-Fock utvekslingsenergi.                   |\n",
    "| **HSE (Heyd-Scuseria-Ernzerhof)**  | `'hse'`               | Hybrid GGA funksjonal med skjermet utveksling for forbedret behandling av systemer med lange rekkevidde.     |\n",
    "| **M06**                    | `'m06'`               | Hybrid meta-GGA funksjonal, som inkluderer tetthetsgradienter og kinetisk energitetthet.                    |\n",
    "| **TPSS (Tao-Perdew-Staroverov-Scuseria)** | `'tpss'`              | Meta-GGA funksjonal som tar hensyn til både elektron-tetthet og kinetisk energitetthet.                     |\n",
    "| **SCAN**                   | `'scan'`              | Meta-GGA funksjonal som bruker strengt korrelerte tettheter for høyere nøyaktighet i komplekse systemer.    |\n",
    "| **CAM-B3LYP**              | `'cam-b3lyp'`         | Hybrid funksjonal med lang-rekkevidde korreksjon, basert på B3LYP, men med tilleggsparameter for screening. |\n",
    "| **PBE0**                   | `'pbe0'`              | Hybridversjon av PBE, som inkluderer en andel av Hartree-Fock utvekslingsenergi.                            |\n"
   ]
  },
  {
   "cell_type": "code",
   "execution_count": 90,
   "metadata": {},
   "outputs": [
    {
     "name": "stdout",
     "output_type": "stream",
     "text": [
      "converged SCF energy = -75.3154254527387\n",
      "Energy:  -75.31542545273867\n"
     ]
    }
   ],
   "source": [
    "\n",
    "mf_dft = scf.RKS(mol)\n",
    "\n",
    "mf_dft.xc = 'b3lyp' # Velg en DFT-funksjonal\n",
    "\n",
    "energy = mf_dft.kernel()\n",
    "print(\"Energy: \", energy)"
   ]
  },
  {
   "cell_type": "markdown",
   "metadata": {},
   "source": [
    "# Geometrioptimering\n",
    "\n",
    "Her viser vi hvordan vi kan gjøre en geometrioptimering. Da prøver PySCF å finne den geometrien som gir lavest energy med modellen og basissettet vi har valgt.\n"
   ]
  },
  {
   "cell_type": "code",
   "execution_count": 91,
   "metadata": {},
   "outputs": [
    {
     "name": "stderr",
     "output_type": "stream",
     "text": [
      "\n",
      "                                        \u001b[91m())))))))))))))))/\u001b[0m                     \n",
      "                                    \u001b[91m())))))))))))))))))))))))),\u001b[0m                \n",
      "                                \u001b[91m*)))))))))))))))))))))))))))))))))\u001b[0m             \n",
      "                        \u001b[94m#,\u001b[0m    \u001b[91m()))))))))/\u001b[0m                \u001b[91m.)))))))))),\u001b[0m          \n",
      "                      \u001b[94m#%%%%,\u001b[0m  \u001b[91m())))))\u001b[0m                        \u001b[91m.))))))))*\u001b[0m        \n",
      "                      \u001b[94m*%%%%%%,\u001b[0m  \u001b[91m))\u001b[0m              \u001b[93m..\u001b[0m              \u001b[91m,))))))).\u001b[0m      \n",
      "                        \u001b[94m*%%%%%%,\u001b[0m         \u001b[93m***************/.\u001b[0m        \u001b[91m.)))))))\u001b[0m     \n",
      "                \u001b[94m#%%/\u001b[0m      \u001b[94m(%%%%%%,\u001b[0m    \u001b[93m/*********************.\u001b[0m       \u001b[91m)))))))\u001b[0m    \n",
      "              \u001b[94m.%%%%%%#\u001b[0m      \u001b[94m*%%%%%%,\u001b[0m  \u001b[93m*******/,\u001b[0m     \u001b[93m**********,\u001b[0m      \u001b[91m.))))))\u001b[0m   \n",
      "                \u001b[94m.%%%%%%/\u001b[0m      \u001b[94m*%%%%%%,\u001b[0m  \u001b[93m**\u001b[0m              \u001b[93m********\u001b[0m      \u001b[91m.))))))\u001b[0m  \n",
      "          \u001b[94m##\u001b[0m      \u001b[94m.%%%%%%/\u001b[0m      \u001b[94m(%%%%%%,\u001b[0m                  \u001b[93m,******\u001b[0m      \u001b[91m/)))))\u001b[0m  \n",
      "        \u001b[94m%%%%%%\u001b[0m      \u001b[94m.%%%%%%#\u001b[0m      \u001b[94m*%%%%%%,\u001b[0m    \u001b[92m,/////.\u001b[0m       \u001b[93m******\u001b[0m      \u001b[91m))))))\u001b[0m \n",
      "      \u001b[94m#%\u001b[0m      \u001b[94m%%\u001b[0m      \u001b[94m.%%%%%%/\u001b[0m      \u001b[94m*%%%%%%,\u001b[0m  \u001b[92m////////,\u001b[0m      \u001b[93m*****/\u001b[0m     \u001b[91m,)))))\u001b[0m \n",
      "    \u001b[94m#%%\u001b[0m  \u001b[94m%%%\u001b[0m  \u001b[94m%%%#\u001b[0m      \u001b[94m.%%%%%%/\u001b[0m      \u001b[94m(%%%%%%,\u001b[0m  \u001b[92m///////.\u001b[0m     \u001b[93m/*****\u001b[0m      \u001b[91m))))).\u001b[0m\n",
      "  \u001b[94m#%%%%.\u001b[0m      \u001b[94m%%%%%#\u001b[0m      \u001b[94m/%%%%%%*\u001b[0m      \u001b[94m#%%%%%%\u001b[0m   \u001b[92m/////)\u001b[0m     \u001b[93m******\u001b[0m      \u001b[91m))))),\u001b[0m\n",
      "    \u001b[94m#%%%%##%\u001b[0m  \u001b[94m%%%#\u001b[0m      \u001b[94m.%%%%%%/\u001b[0m      \u001b[94m(%%%%%%,\u001b[0m  \u001b[92m///////.\u001b[0m     \u001b[93m/*****\u001b[0m      \u001b[91m))))).\u001b[0m\n",
      "      \u001b[94m##\u001b[0m     \u001b[94m%%%\u001b[0m      \u001b[94m.%%%%%%/\u001b[0m      \u001b[94m*%%%%%%,\u001b[0m  \u001b[92m////////.\u001b[0m      \u001b[93m*****/\u001b[0m     \u001b[91m,)))))\u001b[0m \n",
      "        \u001b[94m#%%%%#\u001b[0m      \u001b[94m/%%%%%%/\u001b[0m      \u001b[94m(%%%%%%\u001b[0m      \u001b[92m/)/)//\u001b[0m       \u001b[93m******\u001b[0m      \u001b[91m))))))\u001b[0m \n",
      "          \u001b[94m##\u001b[0m      \u001b[94m.%%%%%%/\u001b[0m      \u001b[94m(%%%%%%,\u001b[0m                  \u001b[93m*******\u001b[0m      \u001b[91m))))))\u001b[0m  \n",
      "                \u001b[94m.%%%%%%/\u001b[0m      \u001b[94m*%%%%%%,\u001b[0m  \u001b[93m**.\u001b[0m             \u001b[93m/*******\u001b[0m      \u001b[91m.))))))\u001b[0m  \n",
      "              \u001b[94m*%%%%%%/\u001b[0m      \u001b[94m(%%%%%%\u001b[0m   \u001b[93m********/*..,*/*********\u001b[0m       \u001b[91m*))))))\u001b[0m   \n",
      "                \u001b[94m#%%/\u001b[0m      \u001b[94m(%%%%%%,\u001b[0m    \u001b[93m*********************/\u001b[0m        \u001b[91m)))))))\u001b[0m    \n",
      "                        \u001b[94m*%%%%%%,\u001b[0m         \u001b[93m,**************/\u001b[0m         \u001b[91m,))))))/\u001b[0m     \n",
      "                      \u001b[94m(%%%%%%\u001b[0m   \u001b[91m()\u001b[0m                              \u001b[91m))))))))\u001b[0m       \n",
      "                      \u001b[94m#%%%%,\u001b[0m  \u001b[91m())))))\u001b[0m                        \u001b[91m,)))))))),\u001b[0m        \n",
      "                        \u001b[94m#,\u001b[0m    \u001b[91m())))))))))\u001b[0m                \u001b[91m,)))))))))).\u001b[0m          \n",
      "                                 \u001b[91m()))))))))))))))))))))))))))))))/\u001b[0m             \n",
      "                                    \u001b[91m())))))))))))))))))))))))).\u001b[0m                \n",
      "                                         \u001b[91m())))))))))))))),\u001b[0m                     \n",
      "\n",
      "-=# \u001b[1;94m geomeTRIC started. Version: 0.9.7.2 \u001b[0m #=-\n",
      "geometric-optimize called with the following command line:\n",
      "/Users/simenkva/anaconda3/lib/python3.10/site-packages/ipykernel_launcher.py --f=/Users/simenkva/Library/Jupyter/runtime/kernel-v3deb863c75a65fd3e6d92bd61d92fe3f775e0501d.json\n",
      "9 internal coordinates being used (instead of 9 Cartesians)\n",
      "Internal coordinate system (atoms numbered from 1):\n",
      "Distance 1-2\n",
      "Distance 1-3\n",
      "Angle 2-1-3\n",
      "Translation-X 1-3\n",
      "Translation-Y 1-3\n",
      "Translation-Z 1-3\n",
      "Rotation-A 1-3\n",
      "Rotation-B 1-3\n",
      "Rotation-C 1-3\n",
      "<class 'geometric.internal.Distance'> : 2\n",
      "<class 'geometric.internal.Angle'> : 1\n",
      "<class 'geometric.internal.TranslationX'> : 1\n",
      "<class 'geometric.internal.TranslationY'> : 1\n",
      "<class 'geometric.internal.TranslationZ'> : 1\n",
      "<class 'geometric.internal.RotationA'> : 1\n",
      "<class 'geometric.internal.RotationB'> : 1\n",
      "<class 'geometric.internal.RotationC'> : 1\n"
     ]
    },
    {
     "name": "stdout",
     "output_type": "stream",
     "text": [
      "\n",
      "Geometry optimization cycle 1\n",
      "Cartesian coordinates (Angstrom)\n",
      " Atom        New coordinates             dX        dY        dZ\n",
      "   O   0.000000   0.000000   0.000000    0.000000  0.000000  0.000000\n",
      "   H   0.277400   0.892900   0.254400    0.000000  0.000000  0.000000\n",
      "   H   0.606800  -0.238300  -0.716900    0.000000  0.000000  0.000000\n",
      "converged SCF energy = -74.9644475827708\n",
      "--------------- RHF_Scanner gradients ---------------\n",
      "         x                y                z\n",
      "0 O     0.0315695267     0.0233709098    -0.0165136871\n",
      "1 H    -0.0131555900    -0.0207130629     0.0005049672\n",
      "2 H    -0.0184139367    -0.0026578469     0.0160087199\n",
      "----------------------------------------------\n",
      "cycle 1: E = -74.9644475828  dE = -74.9644  norm(grad) = 0.0549573\n"
     ]
    },
    {
     "name": "stderr",
     "output_type": "stream",
     "text": [
      "Step    0 : Gradient = 3.173e-02/4.261e-02 (rms/max) Energy = -74.9644475828\n",
      "Hessian Eigenvalues: 5.00000e-02 5.00000e-02 5.00000e-02 ... 1.60000e-01 5.35840e-01 5.35841e-01\n"
     ]
    },
    {
     "name": "stdout",
     "output_type": "stream",
     "text": [
      "\n",
      "Geometry optimization cycle 2\n",
      "Cartesian coordinates (Angstrom)\n",
      " Atom        New coordinates             dX        dY        dZ\n",
      "   O  -0.026883  -0.019902   0.014062   -0.026883 -0.019902  0.014062\n",
      "   H   0.294257   0.891121   0.237297    0.016857 -0.001779 -0.017103\n",
      "   H   0.616826  -0.216619  -0.713859    0.010026  0.021681  0.003041\n",
      "\n",
      "WARN: Large deviations found between the input molecule and the molecule from chkfile\n",
      "Initial guess density matrix may have large error.\n",
      "\n",
      "converged SCF energy = -74.9656950490049\n",
      "--------------- RHF_Scanner gradients ---------------\n",
      "         x                y                z\n",
      "0 O    -0.0074364799    -0.0055051685     0.0038899764\n",
      "1 H     0.0043922391     0.0004375825    -0.0039326418\n",
      "2 H     0.0030442408     0.0050675861     0.0000426654\n",
      "----------------------------------------------\n",
      "cycle 2: E = -74.965695049  dE = -0.00124747  norm(grad) = 0.0130629\n"
     ]
    },
    {
     "name": "stderr",
     "output_type": "stream",
     "text": [
      "Step    1 : Displace = \u001b[0m2.873e-02\u001b[0m/\u001b[0m3.628e-02\u001b[0m (rms/max) Trust = 1.000e-01 (=) Grad = \u001b[0m7.542e-03\u001b[0m/\u001b[0m1.004e-02\u001b[0m (rms/max) E (change) = -74.9656950490 (\u001b[0m-1.247e-03\u001b[0m) Quality = \u001b[0m0.668\u001b[0m\n",
      "Hessian Eigenvalues: 5.00000e-02 5.00000e-02 5.00000e-02 ... 2.32592e-01 4.91194e-01 5.35840e-01\n"
     ]
    },
    {
     "name": "stdout",
     "output_type": "stream",
     "text": [
      "\n",
      "Geometry optimization cycle 3\n",
      "Cartesian coordinates (Angstrom)\n",
      " Atom        New coordinates             dX        dY        dZ\n",
      "   O  -0.018470  -0.013674   0.009662    0.008413  0.006228 -0.004400\n",
      "   H   0.286797   0.899179   0.249091   -0.007460  0.008058  0.011793\n",
      "   H   0.615873  -0.230905  -0.721252   -0.000953 -0.014286 -0.007393\n",
      "\n",
      "WARN: Large deviations found between the input molecule and the molecule from chkfile\n",
      "Initial guess density matrix may have large error.\n",
      "\n",
      "converged SCF energy = -74.9658736610274\n",
      "--------------- RHF_Scanner gradients ---------------\n",
      "         x                y                z\n",
      "0 O    -0.0012723455    -0.0009418820     0.0006655709\n",
      "1 H    -0.0001090117     0.0030298903     0.0018644746\n",
      "2 H     0.0013813572    -0.0020880083    -0.0025300455\n",
      "----------------------------------------------\n",
      "cycle 3: E = -74.965873661  dE = -0.000178612  norm(grad) = 0.0053185\n"
     ]
    },
    {
     "name": "stderr",
     "output_type": "stream",
     "text": [
      "Step    2 : Displace = \u001b[0m1.470e-02\u001b[0m/\u001b[0m1.611e-02\u001b[0m (rms/max) Trust = 1.000e-01 (=) Grad = \u001b[0m3.071e-03\u001b[0m/\u001b[0m3.559e-03\u001b[0m (rms/max) E (change) = -74.9658736610 (\u001b[0m-1.786e-04\u001b[0m) Quality = \u001b[0m0.714\u001b[0m\n",
      "Hessian Eigenvalues: 5.00000e-02 5.00000e-02 5.00000e-02 ... 2.84880e-01 5.12135e-01 5.35840e-01\n"
     ]
    },
    {
     "name": "stdout",
     "output_type": "stream",
     "text": [
      "\n",
      "Geometry optimization cycle 4\n",
      "Cartesian coordinates (Angstrom)\n",
      " Atom        New coordinates             dX        dY        dZ\n",
      "   O  -0.019023  -0.014083   0.009951   -0.000553 -0.000409  0.000289\n",
      "   H   0.288137   0.895733   0.245811    0.001340 -0.003446 -0.003280\n",
      "   H   0.615086  -0.227050  -0.718262   -0.000787  0.003856  0.002990\n",
      "\n",
      "WARN: Large deviations found between the input molecule and the molecule from chkfile\n",
      "Initial guess density matrix may have large error.\n",
      "\n",
      "converged SCF energy = -74.9659003926598\n",
      "--------------- RHF_Scanner gradients ---------------\n",
      "         x                y                z\n",
      "0 O     0.0006986629     0.0005172045    -0.0003654722\n",
      "1 H    -0.0002407523    -0.0006314240    -0.0001374003\n",
      "2 H    -0.0004579106     0.0001142196     0.0005028725\n",
      "----------------------------------------------\n",
      "cycle 4: E = -74.9659003927  dE = -2.67316e-05  norm(grad) = 0.00135659\n"
     ]
    },
    {
     "name": "stderr",
     "output_type": "stream",
     "text": [
      "Step    3 : Displace = \u001b[0m4.058e-03\u001b[0m/\u001b[0m4.942e-03\u001b[0m (rms/max) Trust = 1.000e-01 (=) Grad = \u001b[0m7.832e-04\u001b[0m/\u001b[0m9.430e-04\u001b[0m (rms/max) E (change) = -74.9659003927 (\u001b[0m-2.673e-05\u001b[0m) Quality = \u001b[0m0.881\u001b[0m\n",
      "Hessian Eigenvalues: 5.00000e-02 5.00000e-02 5.00000e-02 ... 2.64990e-01 5.35840e-01 6.17737e-01\n"
     ]
    },
    {
     "name": "stdout",
     "output_type": "stream",
     "text": [
      "\n",
      "Geometry optimization cycle 5\n",
      "Cartesian coordinates (Angstrom)\n",
      " Atom        New coordinates             dX        dY        dZ\n",
      "   O  -0.019350  -0.014325   0.010122   -0.000327 -0.000242  0.000171\n",
      "   H   0.288242   0.896055   0.245898    0.000105  0.000322  0.000087\n",
      "   H   0.615308  -0.227130  -0.718520    0.000222 -0.000080 -0.000258\n",
      "converged SCF energy = -74.965901187568\n",
      "--------------- RHF_Scanner gradients ---------------\n",
      "         x                y                z\n",
      "0 O    -0.0000541054    -0.0000400513     0.0000283036\n",
      "1 H     0.0000245465     0.0000286257    -0.0000067657\n",
      "2 H     0.0000295589     0.0000114257    -0.0000215380\n",
      "----------------------------------------------\n",
      "cycle 5: E = -74.9659011876  dE = -7.94908e-07  norm(grad) = 9.09313e-05\n"
     ]
    },
    {
     "name": "stderr",
     "output_type": "stream",
     "text": [
      "Step    4 : Displace = \u001b[92m3.822e-04\u001b[0m/\u001b[92m4.409e-04\u001b[0m (rms/max) Trust = 1.414e-01 (\u001b[92m+\u001b[0m) Grad = \u001b[92m5.250e-05\u001b[0m/\u001b[92m7.302e-05\u001b[0m (rms/max) E (change) = -74.9659011876 (\u001b[92m-7.949e-07\u001b[0m) Quality = \u001b[0m0.939\u001b[0m\n",
      "Converged! =D\n",
      "\n",
      "    #==========================================================================#\n",
      "    #| If this code has benefited your research, please support us by citing: |#\n",
      "    #|                                                                        |#\n",
      "    #| Wang, L.-P.; Song, C.C. (2016) \"Geometry optimization made simple with |#\n",
      "    #| translation and rotation coordinates\", J. Chem, Phys. 144, 214108.     |#\n",
      "    #| http://dx.doi.org/10.1063/1.4952956                                    |#\n",
      "    #==========================================================================#\n",
      "    \n",
      "Time elapsed since start of run_optimizer: 0.209 seconds\n"
     ]
    },
    {
     "name": "stdout",
     "output_type": "stream",
     "text": [
      "O          -0.01935       -0.01433        0.01012\n",
      "H           0.28824        0.89605        0.24590\n",
      "H           0.61531       -0.22713       -0.71852\n"
     ]
    }
   ],
   "source": [
    "from pyscf.geomopt.geometric_solver import optimize\n",
    "mol_eq = optimize(mf, maxsteps=100)\n",
    "print(mol_eq.tostring())"
   ]
  },
  {
   "cell_type": "markdown",
   "metadata": {},
   "source": [
    "# Beregne vibrasjonelle frekvenser\n",
    "\n",
    "Som eksempel på hva PySCF kan gjøre viser vi hvordan man beregner vibrasjonelle frekvenser.\n",
    "\n",
    "Her bruker vi den optimerte geometrien fra forrige beregning. Merk at modellen vår ikke er veldig nøyaktig, så de vibrasjonelle frekvensene er heller ikke veldig nøyaktige.\n"
   ]
  },
  {
   "cell_type": "code",
   "execution_count": 92,
   "metadata": {},
   "outputs": [
    {
     "name": "stdout",
     "output_type": "stream",
     "text": [
      "converged SCF energy = -74.8400504246501\n",
      "Vibrasjonelle frekvenser i invers cm:\n",
      "[4531.12894846 4214.91310955 1839.35172935]\n"
     ]
    }
   ],
   "source": [
    "mf.mol = mol_eq\n",
    "mf.kernel()\n",
    "\n",
    "from pyscf import eph\n",
    "myeph = eph.EPH(mf_dft)\n",
    "\n",
    "mat, omega = myeph.kernel()\n",
    "\n",
    "au_to_cmm1 = 219474.63 \n",
    "print('Vibrasjonelle frekvenser i invers cm:')\n",
    "print(omega * au_to_cmm1)"
   ]
  },
  {
   "cell_type": "code",
   "execution_count": null,
   "metadata": {},
   "outputs": [],
   "source": []
  }
 ],
 "metadata": {
  "kernelspec": {
   "display_name": "base",
   "language": "python",
   "name": "python3"
  },
  "language_info": {
   "codemirror_mode": {
    "name": "ipython",
    "version": 3
   },
   "file_extension": ".py",
   "mimetype": "text/x-python",
   "name": "python",
   "nbconvert_exporter": "python",
   "pygments_lexer": "ipython3",
   "version": "3.10.14"
  }
 },
 "nbformat": 4,
 "nbformat_minor": 2
}
