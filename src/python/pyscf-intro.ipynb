{
 "cells": [
  {
   "cell_type": "markdown",
   "metadata": {},
   "source": [
    "# Introduksjon til PySCF\n",
    "\n",
    "**PySCF (Python-based Simulations of Chemistry Framework)** er en åpen kildekode-pakke for kvantekjemi som er utviklet for å utføre en ulike elektronstrukturteoriberegninger (langt ord!). Det brukes mye til både forskning og undervisning på grunn av sin fleksibilitet, effektivitet og brukervennlighet. Navnet er et ordspill – \"SCF\" står vanligvis for Self-Consistent Field, altså Hartree-Fock og Tetthetsfunksjonalteori (DFT). Disse metodene er blant PySCFs sterkeste sider.\n",
    "\n",
    "Dokumentasjonen er god, og et godt sted å starte er den offisielle nettsiden: https://pyscf.org/index.html\n",
    "\n",
    "\n",
    "### Noen nøkkelfunksjoner i PySCF:\n",
    "1. **Kjernefunksjonaliteter**:\n",
    "   - PySCF støtter **Hartree-Fock (HF)**- og **Tetthetsfunksjonalteori (DFT)**-beregninger, samt avanserte metoder etter Hartree-Fock som **Møller-Plesset pertubasjonsteori (MP2)**, **Coupled Cluster (CC)**, **Konfigurasjonsinteraksjon (CI)**, **Complete Active Space Self-Consistent Field (CASSCF)**-beregninger og flere.\n",
    "\n",
    "2. **Basis-sett og integraler**:\n",
    "   - Programvaren inkluderer en rekke **Gaussiske orbitaler (GTO)** basis-sett og effektive rutiner for å beregne integraler.\n",
    "\n",
    "3. **Modularitet og fleksibilitet**:\n",
    "   - PySCF er designet for å være modulær, noe som gjør det mulig for brukere å utvide funksjonaliteten eller integrere den med andre verktøy. Dette gjør den egnet for skreddersydde arbeidsflyter i forskning.\n",
    "\n",
    "4. **Python-grensesnitt**:\n",
    "   - Skrevet i Python med ytelseskritiske deler i C, tilbyr PySCF et intuitivt og brukervennlig grensesnitt som utnytter Python-økosystemet for skripting og rask utvikling.\n",
    "  "
   ]
  },
  {
   "cell_type": "markdown",
   "metadata": {},
   "source": [
    "# En første beregning med Hartree-Fock\n",
    "\n",
    "I denne delen av notebooken skal vi se hvordan vi definerer et molekyl, velger et GTO-basissett, og kjører en Hartree-Fock-beregning på molekylet."
   ]
  },
  {
   "cell_type": "markdown",
   "metadata": {},
   "source": [
    "## Importering av relevante pakker"
   ]
  },
  {
   "cell_type": "code",
   "execution_count": 1,
   "metadata": {},
   "outputs": [],
   "source": [
    "from pyscf import * \n",
    "import matplotlib.pyplot as plt"
   ]
  },
  {
   "cell_type": "markdown",
   "metadata": {},
   "source": [
    "## Definere et molekyl\n",
    "\n",
    "Et molekyl defineres ved å plassere kjerner på posisjoner i rommet gitt ved XYZ-koordinater. PySCF regner ut hvor mange elektroner molekylet har under antagelsen at det er elektrisk nøytralt. Her definerer vi et vannmolekyl (med en litt rar geometri), og - for moro skyld - koffein-molekylet (bør være nær likevekt).\n",
    "\n",
    "Når geometrien er bestemt, må man så velge et AO basissett. Husk at AO står for \"atomic orbital\". Her velger vi et basissett som heter STO-3G. Dette er en såkalt \"minimal basis\", der hvert elektron starter med 1 orbital, sentrert på atomet elektronet \"hører til\". I dette eksempelet vil det derfor være 1 basisfunksjon for hvert H-atom, og 5 basisfunksjoner for O-atomet. Hver basisfunksjon er en Slater-type orbital som er tilnærmet med 3 gaussiske orbitaler.\n",
    "\n",
    "Så må vi be PySCF å \"bygge\" molekylet for å få en veldefinert datastruktur som PySCF kan gjøre beregninger med.\n",
    "\n",
    "For mer informasjon og flere måter å gjøre dette på, se https://pyscf.org/user/gto.html.\n",
    "\n"
   ]
  },
  {
   "cell_type": "code",
   "execution_count": 74,
   "metadata": {},
   "outputs": [
    {
     "data": {
      "text/plain": [
       "<pyscf.gto.mole.Mole at 0x117937220>"
      ]
     },
     "execution_count": 74,
     "metadata": {},
     "output_type": "execute_result"
    }
   ],
   "source": [
    "water = \"\"\"\n",
    "O          0.00000        0.00000        0.00000\n",
    "H          0.27740        0.89290        0.25440\n",
    "H          0.60680       -0.23830       -0.71690\n",
    "\n",
    "\"\"\"\n",
    "\n",
    "caffeine = \"\"\"\n",
    "O          0.47000        2.56880        0.00060\n",
    "O         -3.12710       -0.44360       -0.00030\n",
    "N         -0.96860       -1.31250        0.00000\n",
    "N          2.21820        0.14120       -0.00030\n",
    "N         -1.34770        1.07970       -0.00010\n",
    "N          1.41190       -1.93720        0.00020\n",
    "C          0.85790        0.25920       -0.00080\n",
    "C          0.38970       -1.02640       -0.00040\n",
    "C          0.03070        1.42200       -0.00060\n",
    "C         -1.90610       -0.24950       -0.00040\n",
    "C          2.50320       -1.19980        0.00030\n",
    "C         -1.42760       -2.69600        0.00080\n",
    "C          3.19260        1.20610        0.00030\n",
    "C         -2.29690        2.18810        0.00070\n",
    "H          3.51630       -1.57870        0.00080\n",
    "H         -1.04510       -3.19730       -0.89370\n",
    "H         -2.51860       -2.75960        0.00110\n",
    "H         -1.04470       -3.19630        0.89570\n",
    "H          4.19920        0.78010        0.00020\n",
    "H          3.04680        1.80920       -0.89920\n",
    "H          3.04660        1.80830        0.90040\n",
    "H         -1.80870        3.16510       -0.00030\n",
    "H         -2.93220        2.10270        0.88810\n",
    "H         -2.93460        2.10210       -0.88490\n",
    "\"\"\"\n",
    "\n",
    "\n",
    "mol = gto.Mole()\n",
    "mol.atom = water\n",
    "mol.basis = 'cc-pVDZ'\n",
    "mol.unit = 'Angstrom' # Alternativt 'Bohr'\n",
    "mol.build()\n",
    "\n"
   ]
  },
  {
   "cell_type": "markdown",
   "metadata": {},
   "source": [
    "## Kjøre en Hartree-Fock-beregning\n",
    "\n",
    "Når vi har bestemt molekylet vårt, kan vi gjøre, for eksempel, en HF-beregning. Dette gjøres i to steg:\n",
    "1. Lage et `RHF`-objekt som lar oss gjøre en Restricted Hartree-Fock-beregning. Dette objektet initialiseres med `Mole`-objektet fra tidligere.\n",
    "2. Gjøre beregningene.\n",
    "\n"
   ]
  },
  {
   "cell_type": "code",
   "execution_count": 75,
   "metadata": {},
   "outputs": [
    {
     "name": "stdout",
     "output_type": "stream",
     "text": [
      "converged SCF energy = -76.0259894063641\n",
      "Energy:  -76.0259894063641\n"
     ]
    }
   ],
   "source": [
    "mf = scf.RHF(mol)  # Set up a Restricted Hartree-Fock solver\n",
    "energy = mf.kernel()   # Solve for the energy\n",
    "\n",
    "print(\"Energy: \", energy)"
   ]
  },
  {
   "cell_type": "markdown",
   "metadata": {},
   "source": [
    "## Valg av basissett\n",
    "\n",
    "Kvantekjemi inneholder et veritabelt overflødighetshorn av GTO-baserte basissett, tilpasset mange ulike formål. I eksempelet over ble basissettet `STO-3G` brukt. Her er en tabell med flere basissett å prøve ut:\n",
    "\n",
    "| **Basissett**    | **Type**        | **Beskrivelse**                                                                                                      | **Typiske bruksområder**                   |\n",
    "|------------------|-----------------|----------------------------------------------------------------------------------------------------------------------|--------------------------------------------|\n",
    "| **STO-3G**       | Minimalt Basis   | Bruker 3 Gauss-funksjoner for å tilnærme én Slater-type orbital. Rask, men med minimal nøyaktighet.                   | Små molekyler, enkle beregninger           |\n",
    "| **3-21G**        | Split-Valence    | Splitter valensorbitalene i to Gauss-funksjoner for større fleksibilitet.                                             | Små systemer, moderat nøyaktighet          |\n",
    "| **6-31G**        | Split-Valence    | Mer nøyaktig enn 3-21G; bruker 6 Gauss-funksjoner for kjernorbitaler og en delt valensorbitaltilnærming.              | Organiske molekyler, geometrioptimalisering|\n",
    "| **cc-pVDZ**      | Korrelasjons-Konsistent | Dobbelt-zeta basissett designet for korrelerte bølgefunksjonsmetoder som CCSD og MP2.                               | Korrelerte beregninger, små molekyler      |\n",
    "| **cc-pVTZ**      | Korrelasjons-Konsistent | Trippel-zeta versjon for bedre nøyaktighet, spesielt for korrelerte metoder.                                         | Nøyaktige korrelerte metoder               |\n",
    "| **cc-pVQZ**      | Korrelasjons-Konsistent | Kvadrupel-zeta versjon for svært høy nøyaktighet i korrelerte beregninger.                                           | Høynøyaktige beregninger, referanseverdier |\n",
    "| **def2-SVP**     | Split-Valence    | Dobbelt-zeta med polarisasjonsfunksjoner, optimalisert for DFT og korrelerte metoder.                                | Middels store molekyler, geometrioptimalisering |\n",
    "| **def2-TZVP**    | Trippel-Zeta     | Trippel-zeta basissett med polarisasjon. Høy nøyaktighet, egnet for større systemer.                                  | DFT og bølgefunksjonsbaserte metoder       |\n",
    "| **def2-QZVP**    | Kvadrupel-Zeta   | Kvadrupel-zeta basissett for ekstremt høy nøyaktighet, spesielt i post-HF metoder.                                    | Høynøyaktige beregninger                   |\n",
    "| **LANL2DZ**      | ECP              | Bruker effektive kjernpotensialer (ECP) for tunge atomer, med dobbelt-zeta basissett for valenselektroner.            | Tunge elementer, overgangsmetaller         |\n",
    "| **AUG-cc-pVDZ**  | Augmentert Basis | cc-pVDZ med diffuse funksjoner for å fange opp langdistanse-interaksjoner, bedre behandling av svakt bundne systemer. | Svake interaksjoner, anioner, eksiterte tilstander |\n",
    "| **AUG-cc-pVTZ**  | Augmentert Basis | cc-pVTZ med diffuse funksjoner for mer nøyaktig behandling av eksiterte tilstander og anioner.                        | Svakt bundne systemer, van der Waals interaksjoner |\n"
   ]
  },
  {
   "cell_type": "markdown",
   "metadata": {},
   "source": [
    "# Regne ut egenskaper til molekylet\n",
    "\n",
    "Etter at HF-beregningen er ferdig, kan vi be PySCF om å regne ut ulike egenskaper. Her viser vi hvordan man regner ut dipolmomentet og Mulliken-populasjoner.\n"
   ]
  },
  {
   "cell_type": "code",
   "execution_count": 76,
   "metadata": {},
   "outputs": [
    {
     "name": "stdout",
     "output_type": "stream",
     "text": [
      "Dipole moment(X, Y, Z, Debye):  1.53781,  1.13848, -0.80438\n",
      "Dipole moment:  [ 1.53780764  1.13848495 -0.80438399]\n",
      " ** Mulliken pop  **\n",
      "pop of  0 O 1s            2.00171\n",
      "pop of  0 O 2s            0.83481\n",
      "pop of  0 O 3s            0.83445\n",
      "pop of  0 O 2px           0.99446\n",
      "pop of  0 O 2py           0.86620\n",
      "pop of  0 O 2pz           0.94974\n",
      "pop of  0 O 3px           0.68638\n",
      "pop of  0 O 3py           0.52066\n",
      "pop of  0 O 3pz           0.61789\n",
      "pop of  0 O 3dxy          0.00246\n",
      "pop of  0 O 3dyz          0.00028\n",
      "pop of  0 O 3dz^2         0.00193\n",
      "pop of  0 O 3dxz          0.00403\n",
      "pop of  0 O 3dx2-y2       0.00328\n",
      "pop of  1 H 1s            0.68255\n",
      "pop of  1 H 2s            0.07353\n",
      "pop of  1 H 2px           0.02023\n",
      "pop of  1 H 2py           0.04303\n",
      "pop of  1 H 2pz           0.02152\n",
      "pop of  2 H 1s            0.68255\n",
      "pop of  2 H 2s            0.07353\n",
      "pop of  2 H 2px           0.02926\n",
      "pop of  2 H 2py           0.02009\n",
      "pop of  2 H 2pz           0.03544\n",
      " ** Mulliken atomic charges  **\n",
      "charge of    0O =     -0.31829\n",
      "charge of    1H =      0.15914\n",
      "charge of    2H =      0.15914\n",
      "Mulliken population:  (array([2.00171210e+00, 8.34812857e-01, 8.34446132e-01, 9.94462951e-01,\n",
      "       8.66199309e-01, 9.49737149e-01, 6.86378035e-01, 5.20661712e-01,\n",
      "       6.17893298e-01, 2.46113046e-03, 2.79604300e-04, 1.93487219e-03,\n",
      "       4.02955108e-03, 3.27952677e-03, 6.82549716e-01, 7.35260782e-02,\n",
      "       2.02310164e-02, 4.30300623e-02, 2.15188011e-02, 6.82550357e-01,\n",
      "       7.35257165e-02, 2.92551714e-02, 2.00874248e-02, 3.54374270e-02]), array([-0.31828823,  0.15914433,  0.1591439 ]))\n"
     ]
    }
   ],
   "source": [
    "dip = mf.dip_moment()\n",
    "print(\"Dipole moment: \", dip)\n",
    "pop = mf.mulliken_pop()\n",
    "print(\"Mulliken population: \", pop)\n",
    "\n"
   ]
  },
  {
   "cell_type": "markdown",
   "metadata": {},
   "source": [
    "# Gjøre en DFT-beregning\n",
    "\n",
    "Nå viser vi hvordan man kan gjøre en Kohn-Sham DFT-beregning i PySCF. Dette er ganske likt som Hartree-Fock-beregningen. Vi regner på koffein-molekylet.\n",
    "\n",
    "Her er en tabell med XC-funksjonaler du kan prøve:\n",
    "\n",
    "| **Funksjonal**            | **Definisjonsstreng** | **Beskrivelse**                                                                                          |\n",
    "|---------------------------|-----------------------|----------------------------------------------------------------------------------------------------------|\n",
    "| **LDA (Local Density Approximation)**        | `'lda'`               | Lokal tetthets-tilnærming. XC-funksjonalen avhenger bare av elektron-tettheten i hvert punkt.               |\n",
    "| **PBE (Perdew-Burke-Ernzerhof)**  | `'pbe'`               | Generalisert gradient-tilnærming (GGA). Inkluderer gradienten av tettheten for mer nøyaktige beregninger.   |\n",
    "| **BLYP (Becke-Lee-Yang-Parr)**     | `'blyp'`              | Kombinasjon av Becke's utvekslingsfunksjonal og LYP's korrelasjonsfunksjonal. GGA-nivå funksjonal.           |\n",
    "| **BP86**                   | `'bp86'`              | Kombinasjon av Becke’s 1988 utvekslingsfunksjonal og Perdew's 1986 korrelasjonsfunksjonal.                  |\n",
    "| **B3LYP**                  | `'b3lyp'`             | Hybrid GGA funksjonal som kombinerer BLYP med en andel av Hartree-Fock utvekslingsenergi.                   |\n",
    "| **HSE (Heyd-Scuseria-Ernzerhof)**  | `'hse'`               | Hybrid GGA funksjonal med skjermet utveksling for forbedret behandling av systemer med lange rekkevidde.     |\n",
    "| **M06**                    | `'m06'`               | Hybrid meta-GGA funksjonal, som inkluderer tetthetsgradienter og kinetisk energitetthet.                    |\n",
    "| **TPSS (Tao-Perdew-Staroverov-Scuseria)** | `'tpss'`              | Meta-GGA funksjonal som tar hensyn til både elektron-tetthet og kinetisk energitetthet.                     |\n",
    "| **SCAN**                   | `'scan'`              | Meta-GGA funksjonal som bruker strengt korrelerte tettheter for høyere nøyaktighet i komplekse systemer.    |\n",
    "| **CAM-B3LYP**              | `'cam-b3lyp'`         | Hybrid funksjonal med lang-rekkevidde korreksjon, basert på B3LYP, men med tilleggsparameter for screening. |\n",
    "| **PBE0**                   | `'pbe0'`              | Hybridversjon av PBE, som inkluderer en andel av Hartree-Fock utvekslingsenergi.                            |\n"
   ]
  },
  {
   "cell_type": "code",
   "execution_count": 77,
   "metadata": {},
   "outputs": [
    {
     "name": "stdout",
     "output_type": "stream",
     "text": [
      "converged SCF energy = -76.4205861688998\n",
      "Energy:  -76.42058616889985\n"
     ]
    }
   ],
   "source": [
    "\n",
    "mf_dft = scf.RKS(mol)\n",
    "\n",
    "mf_dft.xc = 'b3lyp' # Velg en DFT-funksjonal\n",
    "\n",
    "energy = mf_dft.kernel()\n",
    "print(\"Energy: \", energy)"
   ]
  },
  {
   "cell_type": "markdown",
   "metadata": {},
   "source": [
    "# Geometrioptimering\n",
    "\n",
    "Her viser vi hvordan vi kan gjøre en geometrioptimering. Da prøver PySCF å finne den geometrien som gir lavest energy med modellen og basissettet vi har valgt.\n"
   ]
  },
  {
   "cell_type": "code",
   "execution_count": 78,
   "metadata": {},
   "outputs": [
    {
     "name": "stderr",
     "output_type": "stream",
     "text": [
      "\n",
      "                                        \u001b[91m())))))))))))))))/\u001b[0m                     \n",
      "                                    \u001b[91m())))))))))))))))))))))))),\u001b[0m                \n",
      "                                \u001b[91m*)))))))))))))))))))))))))))))))))\u001b[0m             \n",
      "                        \u001b[94m#,\u001b[0m    \u001b[91m()))))))))/\u001b[0m                \u001b[91m.)))))))))),\u001b[0m          \n",
      "                      \u001b[94m#%%%%,\u001b[0m  \u001b[91m())))))\u001b[0m                        \u001b[91m.))))))))*\u001b[0m        \n",
      "                      \u001b[94m*%%%%%%,\u001b[0m  \u001b[91m))\u001b[0m              \u001b[93m..\u001b[0m              \u001b[91m,))))))).\u001b[0m      \n",
      "                        \u001b[94m*%%%%%%,\u001b[0m         \u001b[93m***************/.\u001b[0m        \u001b[91m.)))))))\u001b[0m     \n",
      "                \u001b[94m#%%/\u001b[0m      \u001b[94m(%%%%%%,\u001b[0m    \u001b[93m/*********************.\u001b[0m       \u001b[91m)))))))\u001b[0m    \n",
      "              \u001b[94m.%%%%%%#\u001b[0m      \u001b[94m*%%%%%%,\u001b[0m  \u001b[93m*******/,\u001b[0m     \u001b[93m**********,\u001b[0m      \u001b[91m.))))))\u001b[0m   \n",
      "                \u001b[94m.%%%%%%/\u001b[0m      \u001b[94m*%%%%%%,\u001b[0m  \u001b[93m**\u001b[0m              \u001b[93m********\u001b[0m      \u001b[91m.))))))\u001b[0m  \n",
      "          \u001b[94m##\u001b[0m      \u001b[94m.%%%%%%/\u001b[0m      \u001b[94m(%%%%%%,\u001b[0m                  \u001b[93m,******\u001b[0m      \u001b[91m/)))))\u001b[0m  \n",
      "        \u001b[94m%%%%%%\u001b[0m      \u001b[94m.%%%%%%#\u001b[0m      \u001b[94m*%%%%%%,\u001b[0m    \u001b[92m,/////.\u001b[0m       \u001b[93m******\u001b[0m      \u001b[91m))))))\u001b[0m \n",
      "      \u001b[94m#%\u001b[0m      \u001b[94m%%\u001b[0m      \u001b[94m.%%%%%%/\u001b[0m      \u001b[94m*%%%%%%,\u001b[0m  \u001b[92m////////,\u001b[0m      \u001b[93m*****/\u001b[0m     \u001b[91m,)))))\u001b[0m \n",
      "    \u001b[94m#%%\u001b[0m  \u001b[94m%%%\u001b[0m  \u001b[94m%%%#\u001b[0m      \u001b[94m.%%%%%%/\u001b[0m      \u001b[94m(%%%%%%,\u001b[0m  \u001b[92m///////.\u001b[0m     \u001b[93m/*****\u001b[0m      \u001b[91m))))).\u001b[0m\n",
      "  \u001b[94m#%%%%.\u001b[0m      \u001b[94m%%%%%#\u001b[0m      \u001b[94m/%%%%%%*\u001b[0m      \u001b[94m#%%%%%%\u001b[0m   \u001b[92m/////)\u001b[0m     \u001b[93m******\u001b[0m      \u001b[91m))))),\u001b[0m\n",
      "    \u001b[94m#%%%%##%\u001b[0m  \u001b[94m%%%#\u001b[0m      \u001b[94m.%%%%%%/\u001b[0m      \u001b[94m(%%%%%%,\u001b[0m  \u001b[92m///////.\u001b[0m     \u001b[93m/*****\u001b[0m      \u001b[91m))))).\u001b[0m\n",
      "      \u001b[94m##\u001b[0m     \u001b[94m%%%\u001b[0m      \u001b[94m.%%%%%%/\u001b[0m      \u001b[94m*%%%%%%,\u001b[0m  \u001b[92m////////.\u001b[0m      \u001b[93m*****/\u001b[0m     \u001b[91m,)))))\u001b[0m \n",
      "        \u001b[94m#%%%%#\u001b[0m      \u001b[94m/%%%%%%/\u001b[0m      \u001b[94m(%%%%%%\u001b[0m      \u001b[92m/)/)//\u001b[0m       \u001b[93m******\u001b[0m      \u001b[91m))))))\u001b[0m \n",
      "          \u001b[94m##\u001b[0m      \u001b[94m.%%%%%%/\u001b[0m      \u001b[94m(%%%%%%,\u001b[0m                  \u001b[93m*******\u001b[0m      \u001b[91m))))))\u001b[0m  \n",
      "                \u001b[94m.%%%%%%/\u001b[0m      \u001b[94m*%%%%%%,\u001b[0m  \u001b[93m**.\u001b[0m             \u001b[93m/*******\u001b[0m      \u001b[91m.))))))\u001b[0m  \n",
      "              \u001b[94m*%%%%%%/\u001b[0m      \u001b[94m(%%%%%%\u001b[0m   \u001b[93m********/*..,*/*********\u001b[0m       \u001b[91m*))))))\u001b[0m   \n",
      "                \u001b[94m#%%/\u001b[0m      \u001b[94m(%%%%%%,\u001b[0m    \u001b[93m*********************/\u001b[0m        \u001b[91m)))))))\u001b[0m    \n",
      "                        \u001b[94m*%%%%%%,\u001b[0m         \u001b[93m,**************/\u001b[0m         \u001b[91m,))))))/\u001b[0m     \n",
      "                      \u001b[94m(%%%%%%\u001b[0m   \u001b[91m()\u001b[0m                              \u001b[91m))))))))\u001b[0m       \n",
      "                      \u001b[94m#%%%%,\u001b[0m  \u001b[91m())))))\u001b[0m                        \u001b[91m,)))))))),\u001b[0m        \n",
      "                        \u001b[94m#,\u001b[0m    \u001b[91m())))))))))\u001b[0m                \u001b[91m,)))))))))).\u001b[0m          \n",
      "                                 \u001b[91m()))))))))))))))))))))))))))))))/\u001b[0m             \n",
      "                                    \u001b[91m())))))))))))))))))))))))).\u001b[0m                \n",
      "                                         \u001b[91m())))))))))))))),\u001b[0m                     \n",
      "\n",
      "-=# \u001b[1;94m geomeTRIC started. Version: 0.9.7.2 \u001b[0m #=-\n",
      "geometric-optimize called with the following command line:\n",
      "/Users/simenkva/anaconda3/lib/python3.10/site-packages/ipykernel_launcher.py --f=/Users/simenkva/Library/Jupyter/runtime/kernel-v3deb863c75a65fd3e6d92bd61d92fe3f775e0501d.json\n",
      "9 internal coordinates being used (instead of 9 Cartesians)\n",
      "Internal coordinate system (atoms numbered from 1):\n",
      "Distance 1-2\n",
      "Distance 1-3\n",
      "Angle 2-1-3\n",
      "Translation-X 1-3\n",
      "Translation-Y 1-3\n",
      "Translation-Z 1-3\n",
      "Rotation-A 1-3\n",
      "Rotation-B 1-3\n",
      "Rotation-C 1-3\n",
      "<class 'geometric.internal.Distance'> : 2\n",
      "<class 'geometric.internal.Angle'> : 1\n",
      "<class 'geometric.internal.TranslationX'> : 1\n",
      "<class 'geometric.internal.TranslationY'> : 1\n",
      "<class 'geometric.internal.TranslationZ'> : 1\n",
      "<class 'geometric.internal.RotationA'> : 1\n",
      "<class 'geometric.internal.RotationB'> : 1\n",
      "<class 'geometric.internal.RotationC'> : 1\n"
     ]
    },
    {
     "name": "stdout",
     "output_type": "stream",
     "text": [
      "\n",
      "Geometry optimization cycle 1\n",
      "Cartesian coordinates (Angstrom)\n",
      " Atom        New coordinates             dX        dY        dZ\n",
      "   O   0.000000   0.000000   0.000000    0.000000  0.000000  0.000000\n",
      "   H   0.277400   0.892900   0.254400    0.000000  0.000000  0.000000\n",
      "   H   0.606800  -0.238300  -0.716900    0.000000  0.000000  0.000000\n",
      "converged SCF energy = -76.0259894063671\n",
      "--------------- RHF_Scanner gradients ---------------\n",
      "         x                y                z\n",
      "0 O    -0.0217754720    -0.0161216894     0.0113897562\n",
      "1 H     0.0067301756     0.0223392879     0.0065650038\n",
      "2 H     0.0150452964    -0.0062175985    -0.0179547600\n",
      "----------------------------------------------\n",
      "cycle 1: E = -76.0259894064  dE = -76.026  norm(grad) = 0.0451513\n"
     ]
    },
    {
     "name": "stderr",
     "output_type": "stream",
     "text": [
      "Step    0 : Gradient = 2.607e-02/2.939e-02 (rms/max) Energy = -76.0259894064\n",
      "Hessian Eigenvalues: 5.00000e-02 5.00000e-02 5.00000e-02 ... 1.60000e-01 5.35840e-01 5.35841e-01\n"
     ]
    },
    {
     "name": "stdout",
     "output_type": "stream",
     "text": [
      "\n",
      "Geometry optimization cycle 2\n",
      "Cartesian coordinates (Angstrom)\n",
      " Atom        New coordinates             dX        dY        dZ\n",
      "   O   0.006670   0.004938  -0.003488    0.006670  0.004938 -0.003488\n",
      "   H   0.278342   0.875744   0.243534    0.000942 -0.017156 -0.010866\n",
      "   H   0.599189  -0.226082  -0.702545   -0.007611  0.012218  0.014355\n",
      "\n",
      "WARN: Large deviations found between the input molecule and the molecule from chkfile\n",
      "Initial guess density matrix may have large error.\n",
      "\n",
      "converged SCF energy = -76.0270293136351\n",
      "--------------- RHF_Scanner gradients ---------------\n",
      "         x                y                z\n",
      "0 O    -0.0000829013    -0.0000613006     0.0000434062\n",
      "1 H     0.0005675888    -0.0017762706    -0.0015731807\n",
      "2 H    -0.0004846875     0.0018375711     0.0015297746\n",
      "----------------------------------------------\n",
      "cycle 2: E = -76.0270293136  dE = -0.00103991  norm(grad) = 0.00345203\n"
     ]
    },
    {
     "name": "stderr",
     "output_type": "stream",
     "text": [
      "Step    1 : Displace = \u001b[0m1.739e-02\u001b[0m/\u001b[0m2.033e-02\u001b[0m (rms/max) Trust = 1.000e-01 (=) Grad = \u001b[0m1.993e-03\u001b[0m/\u001b[0m2.440e-03\u001b[0m (rms/max) E (change) = -76.0270293136 (\u001b[0m-1.040e-03\u001b[0m) Quality = \u001b[0m0.948\u001b[0m\n",
      "Hessian Eigenvalues: 5.00000e-02 5.00000e-02 5.00000e-02 ... 1.59996e-01 5.35840e-01 5.79736e-01\n"
     ]
    },
    {
     "name": "stdout",
     "output_type": "stream",
     "text": [
      "\n",
      "Geometry optimization cycle 3\n",
      "Cartesian coordinates (Angstrom)\n",
      " Atom        New coordinates             dX        dY        dZ\n",
      "   O   0.009214   0.006822  -0.004820    0.002545  0.001884 -0.001331\n",
      "   H   0.275853   0.878980   0.247787   -0.002489  0.003236  0.004253\n",
      "   H   0.599133  -0.231202  -0.705467   -0.000056 -0.005120 -0.002922\n",
      "\n",
      "WARN: Large deviations found between the input molecule and the molecule from chkfile\n",
      "Initial guess density matrix may have large error.\n",
      "\n",
      "converged SCF energy = -76.0270532769522\n",
      "--------------- RHF_Scanner gradients ---------------\n",
      "         x                y                z\n",
      "0 O     0.0000855380     0.0000633299    -0.0000447404\n",
      "1 H    -0.0000834510     0.0001080369     0.0001423260\n",
      "2 H    -0.0000020870    -0.0001713669    -0.0000975856\n",
      "----------------------------------------------\n",
      "cycle 3: E = -76.027053277  dE = -2.39633e-05  norm(grad) = 0.000301854\n"
     ]
    },
    {
     "name": "stderr",
     "output_type": "stream",
     "text": [
      "Step    2 : Displace = \u001b[0m5.206e-03\u001b[0m/\u001b[0m5.895e-03\u001b[0m (rms/max) Trust = 1.414e-01 (\u001b[92m+\u001b[0m) Grad = \u001b[92m1.743e-04\u001b[0m/\u001b[92m1.972e-04\u001b[0m (rms/max) E (change) = -76.0270532770 (\u001b[0m-2.396e-05\u001b[0m) Quality = \u001b[0m0.900\u001b[0m\n",
      "Hessian Eigenvalues: 5.00000e-02 5.00000e-02 5.00000e-02 ... 1.73711e-01 5.35840e-01 5.85492e-01\n"
     ]
    },
    {
     "name": "stdout",
     "output_type": "stream",
     "text": [
      "\n",
      "Geometry optimization cycle 4\n",
      "Cartesian coordinates (Angstrom)\n",
      " Atom        New coordinates             dX        dY        dZ\n",
      "   O   0.008942   0.006621  -0.004677   -0.000272 -0.000201  0.000142\n",
      "   H   0.276095   0.878718   0.247404    0.000242 -0.000262 -0.000383\n",
      "   H   0.599163  -0.230738  -0.705226    0.000030  0.000464  0.000241\n",
      "converged SCF energy = -76.0270535126751\n",
      "--------------- RHF_Scanner gradients ---------------\n",
      "         x                y                z\n",
      "0 O    -0.0000068424    -0.0000050675     0.0000035780\n",
      "1 H     0.0000021321     0.0000069631     0.0000020136\n",
      "2 H     0.0000047103    -0.0000018956    -0.0000055915\n",
      "----------------------------------------------\n",
      "cycle 4: E = -76.0270535127  dE = -2.35723e-07  norm(grad) = 1.4122e-05\n"
     ]
    },
    {
     "name": "stderr",
     "output_type": "stream",
     "text": [
      "Step    3 : Displace = \u001b[92m4.769e-04\u001b[0m/\u001b[92m5.233e-04\u001b[0m (rms/max) Trust = 2.000e-01 (\u001b[92m+\u001b[0m) Grad = \u001b[92m8.153e-06\u001b[0m/\u001b[92m9.236e-06\u001b[0m (rms/max) E (change) = -76.0270535127 (\u001b[92m-2.357e-07\u001b[0m) Quality = \u001b[0m1.004\u001b[0m\n",
      "Converged! =D\n",
      "\n",
      "    #==========================================================================#\n",
      "    #| If this code has benefited your research, please support us by citing: |#\n",
      "    #|                                                                        |#\n",
      "    #| Wang, L.-P.; Song, C.C. (2016) \"Geometry optimization made simple with |#\n",
      "    #| translation and rotation coordinates\", J. Chem, Phys. 144, 214108.     |#\n",
      "    #| http://dx.doi.org/10.1063/1.4952956                                    |#\n",
      "    #==========================================================================#\n",
      "    \n",
      "Time elapsed since start of run_optimizer: 0.210 seconds\n"
     ]
    },
    {
     "name": "stdout",
     "output_type": "stream",
     "text": [
      "O           0.00894        0.00662       -0.00468\n",
      "H           0.27609        0.87872        0.24740\n",
      "H           0.59916       -0.23074       -0.70523\n"
     ]
    }
   ],
   "source": [
    "from pyscf.geomopt.geometric_solver import optimize\n",
    "mol_eq = optimize(mf, maxsteps=100)\n",
    "print(mol_eq.tostring())"
   ]
  },
  {
   "cell_type": "markdown",
   "metadata": {},
   "source": [
    "# Beregne vibrasjonelle frekvenser\n",
    "\n",
    "Som eksempel på hva PySCF kan gjøre viser vi hvordan man beregner vibrasjonelle frekvenser.\n",
    "\n",
    "Her bruker vi den optimerte geometrien fra forrige beregning. Merk at modellen vår ikke er veldig nøyaktig, så de vibrasjonelle frekvensene er heller ikke veldig nøyaktige.\n"
   ]
  },
  {
   "cell_type": "code",
   "execution_count": 85,
   "metadata": {},
   "outputs": [
    {
     "name": "stdout",
     "output_type": "stream",
     "text": [
      "converged SCF energy = -76.5831092005586\n",
      "Vibrasjonelle frekvenser i invers cm:\n",
      "[4950.77292193 4949.76015614 2015.66750482]\n"
     ]
    }
   ],
   "source": [
    "mf.mol = mol_eq\n",
    "mf.kernel()\n",
    "\n",
    "from pyscf import eph\n",
    "myeph = eph.EPH(mf)\n",
    "\n",
    "mat, omega = myeph.kernel()\n",
    "\n",
    "au_to_cmm1 = 219474.63 \n",
    "print('Vibrasjonelle frekvenser i invers cm:')\n",
    "print(omega * au_to_cmm1)"
   ]
  },
  {
   "cell_type": "code",
   "execution_count": null,
   "metadata": {},
   "outputs": [],
   "source": []
  }
 ],
 "metadata": {
  "kernelspec": {
   "display_name": "base",
   "language": "python",
   "name": "python3"
  },
  "language_info": {
   "codemirror_mode": {
    "name": "ipython",
    "version": 3
   },
   "file_extension": ".py",
   "mimetype": "text/x-python",
   "name": "python",
   "nbconvert_exporter": "python",
   "pygments_lexer": "ipython3",
   "version": "3.10.14"
  }
 },
 "nbformat": 4,
 "nbformat_minor": 2
}
